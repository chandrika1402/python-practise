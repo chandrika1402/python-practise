{
 "cells": [
  {
   "cell_type": "code",
   "execution_count": 6,
   "id": "0d1ce4d4",
   "metadata": {},
   "outputs": [
    {
     "name": "stdout",
     "output_type": "stream",
     "text": [
      "5\n",
      "4\n",
      "Addition : 9\n",
      "Subtraction : 1\n",
      "Multiplication : 20\n",
      "Floor Division : 1\n"
     ]
    }
   ],
   "source": [
    "class Calculator:\n",
    "    def add(self,num1,num2):\n",
    "        self.num1=num1;\n",
    "        self.num2=num2;\n",
    "        return self.num1+self.num2\n",
    "    def sub(self,num1,num2):\n",
    "        return num1-num2;\n",
    "class AdvanceCalculator(Calculator):\n",
    "    def mul(self,num1,num2):\n",
    "        print(\"Multiplication :\",num1*num2)\n",
    "    def div(self,num1,num2):\n",
    "        return num1//num2;\n",
    "x=AdvanceCalculator()\n",
    "num1=int(input())\n",
    "num2=int(input())\n",
    "print(\"Addition : %d\"%(x.add(num1,num2)))\n",
    "print(\"Subtraction :\",x.sub(num1,num2))\n",
    "x.mul(num1,num2)\n",
    "print(\"Floor Division : %d\"%(x.div(num1,num2)))"
   ]
  },
  {
   "cell_type": "markdown",
   "id": "0639a636",
   "metadata": {},
   "source": []
  }
 ],
 "metadata": {
  "kernelspec": {
   "display_name": "Python 3 (ipykernel)",
   "language": "python",
   "name": "python3"
  },
  "language_info": {
   "codemirror_mode": {
    "name": "ipython",
    "version": 3
   },
   "file_extension": ".py",
   "mimetype": "text/x-python",
   "name": "python",
   "nbconvert_exporter": "python",
   "pygments_lexer": "ipython3",
   "version": "3.11.5"
  }
 },
 "nbformat": 4,
 "nbformat_minor": 5
}

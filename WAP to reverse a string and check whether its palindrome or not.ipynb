{
 "cells": [
  {
   "cell_type": "code",
   "execution_count": 4,
   "id": "b3f37858",
   "metadata": {},
   "outputs": [
    {
     "name": "stdout",
     "output_type": "stream",
     "text": [
      "dad\n",
      "d\n",
      "ad\n",
      "dad\n",
      "Reversed text: dad\n",
      "yes, the given string is palindrome\n"
     ]
    }
   ],
   "source": [
    "text = str(input())\n",
    "rev_text = \"\"\n",
    "for j in text:\n",
    "        rev_text = j+ rev_text\n",
    "        print(rev_text)\n",
    "print(\"Reversed text:\",rev_text)\n",
    "\n",
    "if text==rev_text:\n",
    "    print(\"yes, the given string is palindrome\")\n",
    "else:\n",
    "     print(\"no, the given string is not a palindrome\") \n",
    "    "
   ]
  },
  {
   "cell_type": "code",
   "execution_count": null,
   "id": "fb6e6f97",
   "metadata": {},
   "outputs": [],
   "source": []
  }
 ],
 "metadata": {
  "kernelspec": {
   "display_name": "Python 3 (ipykernel)",
   "language": "python",
   "name": "python3"
  },
  "language_info": {
   "codemirror_mode": {
    "name": "ipython",
    "version": 3
   },
   "file_extension": ".py",
   "mimetype": "text/x-python",
   "name": "python",
   "nbconvert_exporter": "python",
   "pygments_lexer": "ipython3",
   "version": "3.11.5"
  }
 },
 "nbformat": 4,
 "nbformat_minor": 5
}

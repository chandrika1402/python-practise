{
 "cells": [
  {
   "cell_type": "code",
   "execution_count": 1,
   "id": "9fde8b12",
   "metadata": {},
   "outputs": [
    {
     "data": {
      "text/plain": [
       "set"
      ]
     },
     "execution_count": 1,
     "metadata": {},
     "output_type": "execute_result"
    }
   ],
   "source": [
    "values = {6, 'Python', 5.6}\n",
    "type(values)"
   ]
  },
  {
   "cell_type": "code",
   "execution_count": 2,
   "id": "febca850",
   "metadata": {},
   "outputs": [
    {
     "data": {
      "text/plain": [
       "{1, 2, 3, 4, 5, 12, 45}"
      ]
     },
     "execution_count": 2,
     "metadata": {},
     "output_type": "execute_result"
    }
   ],
   "source": [
    "values = set()\n",
    "type(values)\n",
    "set\n",
    "values={12,1,2,3,2,45,4,5,3}\n",
    "values"
   ]
  },
  {
   "cell_type": "code",
   "execution_count": 3,
   "id": "50d70a09",
   "metadata": {},
   "outputs": [
    {
     "name": "stdout",
     "output_type": "stream",
     "text": [
      "set()\n"
     ]
    }
   ],
   "source": [
    "#Creating a set\n",
    "set1 = set()\n",
    "print (set1)"
   ]
  },
  {
   "cell_type": "code",
   "execution_count": 4,
   "id": "48a3d0ae",
   "metadata": {},
   "outputs": [
    {
     "data": {
      "text/plain": [
       "{2, 5, 9.4, 'Python', 'a'}"
      ]
     },
     "execution_count": 4,
     "metadata": {},
     "output_type": "execute_result"
    }
   ],
   "source": [
    "value_set = {2, 'Python', 'a',5,9.4}                  #Creating a set\n",
    "value_set"
   ]
  },
  {
   "cell_type": "code",
   "execution_count": 5,
   "id": "8420a4c0",
   "metadata": {},
   "outputs": [
    {
     "ename": "TypeError",
     "evalue": "'set' object is not subscriptable",
     "output_type": "error",
     "traceback": [
      "\u001b[1;31m---------------------------------------------------------------------------\u001b[0m",
      "\u001b[1;31mTypeError\u001b[0m                                 Traceback (most recent call last)",
      "Cell \u001b[1;32mIn[5], line 2\u001b[0m\n\u001b[0;32m      1\u001b[0m \u001b[38;5;66;03m#WAP to acess element in the set\u001b[39;00m\n\u001b[1;32m----> 2\u001b[0m value_set[\u001b[38;5;241m0\u001b[39m]\n",
      "\u001b[1;31mTypeError\u001b[0m: 'set' object is not subscriptable"
     ]
    }
   ],
   "source": [
    "#WAP to acess element in the set\n",
    "value_set[0]"
   ]
  },
  {
   "cell_type": "code",
   "execution_count": 6,
   "id": "7c04a2d7",
   "metadata": {},
   "outputs": [
    {
     "ename": "AttributeError",
     "evalue": "'set' object has no attribute 'append'",
     "output_type": "error",
     "traceback": [
      "\u001b[1;31m---------------------------------------------------------------------------\u001b[0m",
      "\u001b[1;31mAttributeError\u001b[0m                            Traceback (most recent call last)",
      "Cell \u001b[1;32mIn[6], line 2\u001b[0m\n\u001b[0;32m      1\u001b[0m \u001b[38;5;66;03m#WAP to acess element in the set\u001b[39;00m\n\u001b[1;32m----> 2\u001b[0m value_set\u001b[38;5;241m.\u001b[39mappend(\u001b[38;5;124m'\u001b[39m\u001b[38;5;124mHello\u001b[39m\u001b[38;5;124m'\u001b[39m)\n\u001b[0;32m      3\u001b[0m value_set\n",
      "\u001b[1;31mAttributeError\u001b[0m: 'set' object has no attribute 'append'"
     ]
    }
   ],
   "source": [
    "#WAP to acess element in the set\n",
    "value_set.append('Hello')\n",
    "value_set"
   ]
  },
  {
   "cell_type": "code",
   "execution_count": 7,
   "id": "6d9a2439",
   "metadata": {},
   "outputs": [
    {
     "ename": "TypeError",
     "evalue": "unsupported operand type(s) for +: 'set' and 'str'",
     "output_type": "error",
     "traceback": [
      "\u001b[1;31m---------------------------------------------------------------------------\u001b[0m",
      "\u001b[1;31mTypeError\u001b[0m                                 Traceback (most recent call last)",
      "Cell \u001b[1;32mIn[7], line 1\u001b[0m\n\u001b[1;32m----> 1\u001b[0m value_set\u001b[38;5;241m=\u001b[39mvalue_set\u001b[38;5;241m+\u001b[39m\u001b[38;5;124m\"\u001b[39m\u001b[38;5;124mHello\u001b[39m\u001b[38;5;124m\"\u001b[39m\n\u001b[0;32m      2\u001b[0m value_set\n",
      "\u001b[1;31mTypeError\u001b[0m: unsupported operand type(s) for +: 'set' and 'str'"
     ]
    }
   ],
   "source": [
    "value_set=value_set+\"Hello\"                       #WAP to acess element in the set\n",
    "value_set"
   ]
  },
  {
   "cell_type": "code",
   "execution_count": 8,
   "id": "e55508aa",
   "metadata": {},
   "outputs": [
    {
     "data": {
      "text/plain": [
       "{2, 5, 9.4, 'Python', 'a', 'apple'}"
      ]
     },
     "execution_count": 8,
     "metadata": {},
     "output_type": "execute_result"
    }
   ],
   "source": [
    "value_set.add(\"apple\")                             #WAP to acess element in the set\n",
    "value_set"
   ]
  },
  {
   "cell_type": "code",
   "execution_count": 9,
   "id": "fea493fb",
   "metadata": {},
   "outputs": [
    {
     "ename": "TypeError",
     "evalue": "set.add() takes exactly one argument (2 given)",
     "output_type": "error",
     "traceback": [
      "\u001b[1;31m---------------------------------------------------------------------------\u001b[0m",
      "\u001b[1;31mTypeError\u001b[0m                                 Traceback (most recent call last)",
      "Cell \u001b[1;32mIn[9], line 1\u001b[0m\n\u001b[1;32m----> 1\u001b[0m value_set\u001b[38;5;241m.\u001b[39madd(\u001b[38;5;124m\"\u001b[39m\u001b[38;5;124mapple\u001b[39m\u001b[38;5;124m\"\u001b[39m , \u001b[38;5;124m\"\u001b[39m\u001b[38;5;124mbanana\u001b[39m\u001b[38;5;124m\"\u001b[39m)                             \u001b[38;5;66;03m#WAP to acess element in the set\u001b[39;00m\n\u001b[0;32m      2\u001b[0m value_set\n",
      "\u001b[1;31mTypeError\u001b[0m: set.add() takes exactly one argument (2 given)"
     ]
    }
   ],
   "source": [
    "value_set.add(\"apple\" , \"banana\")                  #WAP to acess element in the set\n",
    "value_set"
   ]
  },
  {
   "cell_type": "code",
   "execution_count": 10,
   "id": "ccf134f8",
   "metadata": {},
   "outputs": [
    {
     "data": {
      "text/plain": [
       "{2, 5, 9.4, 'PYTHON', 'a'}"
      ]
     },
     "execution_count": 10,
     "metadata": {},
     "output_type": "execute_result"
    }
   ],
   "source": [
    "value_set = {2, 'PYTHON', 'a', 5, 9.4}\n",
    "value_set"
   ]
  },
  {
   "cell_type": "code",
   "execution_count": 11,
   "id": "a0924151",
   "metadata": {},
   "outputs": [
    {
     "data": {
      "text/plain": [
       "{2, 5, 9.4, 'a'}"
      ]
     },
     "execution_count": 11,
     "metadata": {},
     "output_type": "execute_result"
    }
   ],
   "source": [
    "value_set.remove('PYTHON')                          #Remove function\n",
    "value_set"
   ]
  },
  {
   "cell_type": "code",
   "execution_count": 12,
   "id": "558b4793",
   "metadata": {},
   "outputs": [
    {
     "ename": "KeyError",
     "evalue": "6",
     "output_type": "error",
     "traceback": [
      "\u001b[1;31m---------------------------------------------------------------------------\u001b[0m",
      "\u001b[1;31mKeyError\u001b[0m                                  Traceback (most recent call last)",
      "Cell \u001b[1;32mIn[12], line 1\u001b[0m\n\u001b[1;32m----> 1\u001b[0m value_set\u001b[38;5;241m.\u001b[39mremove(\u001b[38;5;241m6\u001b[39m)\n\u001b[0;32m      2\u001b[0m value_set\n",
      "\u001b[1;31mKeyError\u001b[0m: 6"
     ]
    }
   ],
   "source": [
    "value_set.remove(6)\n",
    "value_set"
   ]
  },
  {
   "cell_type": "code",
   "execution_count": 13,
   "id": "1f7f27cd",
   "metadata": {},
   "outputs": [
    {
     "data": {
      "text/plain": [
       "{2, 5, 'a'}"
      ]
     },
     "execution_count": 13,
     "metadata": {},
     "output_type": "execute_result"
    }
   ],
   "source": [
    "value_set.discard(9.4)\n",
    "value_set"
   ]
  },
  {
   "cell_type": "code",
   "execution_count": 14,
   "id": "1fb0d257",
   "metadata": {},
   "outputs": [
    {
     "data": {
      "text/plain": [
       "set()"
      ]
     },
     "execution_count": 14,
     "metadata": {},
     "output_type": "execute_result"
    }
   ],
   "source": [
    "#Clear of delete a set\n",
    "value_set.clear()\n",
    "value_set"
   ]
  },
  {
   "cell_type": "code",
   "execution_count": 20,
   "id": "d0981150",
   "metadata": {},
   "outputs": [
    {
     "data": {
      "text/plain": [
       "set()"
      ]
     },
     "execution_count": 20,
     "metadata": {},
     "output_type": "execute_result"
    }
   ],
   "source": [
    "value_set"
   ]
  },
  {
   "cell_type": "code",
   "execution_count": 21,
   "id": "d8de658d",
   "metadata": {},
   "outputs": [
    {
     "data": {
      "text/plain": [
       "0"
      ]
     },
     "execution_count": 21,
     "metadata": {},
     "output_type": "execute_result"
    }
   ],
   "source": [
    "#WAP to find the length of the set\n",
    "\n",
    "len(value_set)"
   ]
  },
  {
   "cell_type": "code",
   "execution_count": 22,
   "id": "21f1e0d4",
   "metadata": {},
   "outputs": [
    {
     "data": {
      "text/plain": [
       "6"
      ]
     },
     "execution_count": 22,
     "metadata": {},
     "output_type": "execute_result"
    }
   ],
   "source": [
    "#WAP to find the length of the set\n",
    "value_set={1,2,3,4,5,6}\n",
    "len(value_set)"
   ]
  },
  {
   "cell_type": "code",
   "execution_count": null,
   "id": "cf78dc23",
   "metadata": {},
   "outputs": [],
   "source": []
  }
 ],
 "metadata": {
  "kernelspec": {
   "display_name": "Python 3 (ipykernel)",
   "language": "python",
   "name": "python3"
  },
  "language_info": {
   "codemirror_mode": {
    "name": "ipython",
    "version": 3
   },
   "file_extension": ".py",
   "mimetype": "text/x-python",
   "name": "python",
   "nbconvert_exporter": "python",
   "pygments_lexer": "ipython3",
   "version": "3.11.5"
  }
 },
 "nbformat": 4,
 "nbformat_minor": 5
}

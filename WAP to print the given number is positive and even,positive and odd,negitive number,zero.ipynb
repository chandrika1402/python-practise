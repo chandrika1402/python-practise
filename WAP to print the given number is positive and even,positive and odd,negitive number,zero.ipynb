{
 "cells": [
  {
   "cell_type": "code",
   "execution_count": 1,
   "id": "82ac64c6",
   "metadata": {},
   "outputs": [
    {
     "name": "stdout",
     "output_type": "stream",
     "text": [
      "5\n",
      "The Given number is Positive and Odd\n"
     ]
    }
   ],
   "source": [
    "a=int(input())\n",
    "if a>0:\n",
    "    if a%2==0:\n",
    "        print(\"The Given number is Positive and Even\")\n",
    "    elif a%2!=0:\n",
    "        print(\"The Given number is Positive and Odd\")\n",
    "    elif a<0:\n",
    "        print(\"The Given number is Odd number\")\n",
    "    else:\n",
    "        print(\"The Given is Zero\")"
   ]
  },
  {
   "cell_type": "code",
   "execution_count": 5,
   "id": "9e7e2219",
   "metadata": {},
   "outputs": [
    {
     "name": "stdout",
     "output_type": "stream",
     "text": [
      "5\n",
      "The Given number is Positive and Odd\n"
     ]
    }
   ],
   "source": [
    "a=int(input())\n",
    "if a>0:\n",
    "    if a%2==0:\n",
    "        print(\"The Given number is Positive and Even\")\n",
    "    elif a%2!=0:\n",
    "        print(\"The Given number is Positive and Odd\")\n",
    "    elif a<0:\n",
    "        print(\"The Given number is negitive\")\n",
    "    else:\n",
    "        print(\"The Given is Zero\")"
   ]
  },
  {
   "cell_type": "code",
   "execution_count": null,
   "id": "d623067f",
   "metadata": {},
   "outputs": [],
   "source": [
    "a=int(input())\n",
    "if a>0:\n",
    "    if a%2==0:\n",
    "        print(\"The Given number is Positive and Even\")\n",
    "    elif a%2!=0:\n",
    "        print(\"The Given number is Positive and Odd\")\n",
    "    elif a<0:\n",
    "        print(\"The Given number is Odd number\")\n",
    "    else:\n",
    "        print(\"The Given is Zero\")"
   ]
  },
  {
   "cell_type": "code",
   "execution_count": null,
   "id": "0dda1c7f",
   "metadata": {},
   "outputs": [],
   "source": []
  }
 ],
 "metadata": {
  "kernelspec": {
   "display_name": "Python 3 (ipykernel)",
   "language": "python",
   "name": "python3"
  },
  "language_info": {
   "codemirror_mode": {
    "name": "ipython",
    "version": 3
   },
   "file_extension": ".py",
   "mimetype": "text/x-python",
   "name": "python",
   "nbconvert_exporter": "python",
   "pygments_lexer": "ipython3",
   "version": "3.11.5"
  }
 },
 "nbformat": 4,
 "nbformat_minor": 5
}

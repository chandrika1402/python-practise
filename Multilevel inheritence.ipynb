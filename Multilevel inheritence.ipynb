{
 "cells": [
  {
   "cell_type": "code",
   "execution_count": 1,
   "id": "00dcf6e6",
   "metadata": {},
   "outputs": [],
   "source": [
    "#WAP to calculate the salary of the temporary staff using multilevel Inheritence.\n",
    "#Create a class Person which contains a constructor init() and a method display (self).The method displays name of the person\n",
    "#Create another class Staff which inherit Person. It contains a constructor init() and a method display(self).The method displays Id\n",
    "#Create another class Temporarystaff which inherit Staff ,it also contains a constructor init() and two method display(self),salary()\n",
    "#The method Slalary (self) return the total salary earned.The method display(self) displays number of days,hoursworked and total salary earned.\n",
    "#salary earned = total hours worked *150 "
   ]
  },
  {
   "cell_type": "code",
   "execution_count": 5,
   "id": "22a5804d",
   "metadata": {},
   "outputs": [
    {
     "name": "stdout",
     "output_type": "stream",
     "text": [
      "chandrika\n",
      "143\n",
      "25\n",
      "10\n"
     ]
    }
   ],
   "source": [
    "class Person:\n",
    "    def __init__(self, name):\n",
    "        self.name = name\n",
    "    def display(self):\n",
    "        print(\"Name:\",self.name)\n",
    "class Staff(Person):\n",
    "    def __init__(self, name, staff_id):\n",
    "        super().__init__(name)\n",
    "        self.staff_id = staff_id\n",
    "    def display(self):\n",
    "        super().display()\n",
    "        print(\"Staff ID:\",self.staff_id)\n",
    "class TemporaryStaff(Staff):\n",
    "    def __init__(self, name, staff_id, days_worked, hours_per_day):\n",
    "        super().__init__(name, staff_id)\n",
    "        self.days_worked = days_worked\n",
    "        self.hours_per_day = hours_per_day\n",
    "    def salary(self):\n",
    "        total_hours = self.days_worked * self.hours_per_day\n",
    "        return total_hours * 150\n",
    "    def display(self):\n",
    "        super().display()\n",
    "        print(\"Days Worked:\",self.days_worked)\n",
    "        print(\"Hours per Day:\",self.hours_per_day)\n",
    "        print(\"Total Salary Earned:\",self.salary())\n",
    "name=input()\n",
    "staff_id = int(input())\n",
    "days_worked=int(input())\n",
    "hours_per_day=int(input())"
   ]
  },
  {
   "cell_type": "code",
   "execution_count": 6,
   "id": "e31e6cd6",
   "metadata": {},
   "outputs": [
    {
     "name": "stdout",
     "output_type": "stream",
     "text": [
      "Enter name: chandrika\n",
      "Enter ID: 142\n",
      "Enter number of days worked: 25\n",
      "Enter hours worked per day: 5\n"
     ]
    },
    {
     "ename": "TypeError",
     "evalue": "TemporaryStaff() takes no arguments",
     "output_type": "error",
     "traceback": [
      "\u001b[1;31m---------------------------------------------------------------------------\u001b[0m",
      "\u001b[1;31mTypeError\u001b[0m                                 Traceback (most recent call last)",
      "Cell \u001b[1;32mIn[6], line 42\u001b[0m\n\u001b[0;32m     39\u001b[0m days \u001b[38;5;241m=\u001b[39m \u001b[38;5;28mint\u001b[39m(\u001b[38;5;28minput\u001b[39m(\u001b[38;5;124m\"\u001b[39m\u001b[38;5;124mEnter number of days worked: \u001b[39m\u001b[38;5;124m\"\u001b[39m))\n\u001b[0;32m     40\u001b[0m hoursworked \u001b[38;5;241m=\u001b[39m \u001b[38;5;28mint\u001b[39m(\u001b[38;5;28minput\u001b[39m(\u001b[38;5;124m\"\u001b[39m\u001b[38;5;124mEnter hours worked per day: \u001b[39m\u001b[38;5;124m\"\u001b[39m))\n\u001b[1;32m---> 42\u001b[0m temp_staff \u001b[38;5;241m=\u001b[39m TemporaryStaff(name, Id, days, hoursworked)\n\u001b[0;32m     45\u001b[0m temp_staff\u001b[38;5;241m.\u001b[39mdisplay()\n",
      "\u001b[1;31mTypeError\u001b[0m: TemporaryStaff() takes no arguments"
     ]
    }
   ],
   "source": [
    "class Person:\n",
    "    def _init_(self, name):\n",
    "        self.name = name\n",
    "\n",
    "    def display(self):\n",
    "        print(\"Name:\", self.name)\n",
    "\n",
    "class Staff(Person):\n",
    "    def _init_(self, name, Id):\n",
    "        super()._init_(name)\n",
    "        self.id = Id\n",
    "\n",
    "    def display(self):\n",
    "        super().display()\n",
    "        print(\"ID:\", self.id)\n",
    "\n",
    "class TemporaryStaff(Staff):\n",
    "    def _init_(self, name, Id, days, hoursworked):\n",
    "        super()._init_(name, Id)\n",
    "        self.days = days\n",
    "        self.hoursworked = hoursworked\n",
    "\n",
    "    def Salary(self):\n",
    "        salary = self.days * self.hoursworked * 150\n",
    "        return salary\n",
    "\n",
    "    def display(self):\n",
    "        super().display()\n",
    "        print(\"No of days:\", self.days)\n",
    "        print(\"No of hours worked:\", self.hoursworked)\n",
    "        print(\"Total Salary:\", self.Salary())\n",
    "\n",
    "name = input(\"Enter name: \")\n",
    "Id = int(input(\"Enter ID: \"))\n",
    "days = int(input(\"Enter number of days worked: \"))\n",
    "hoursworked = int(input(\"Enter hours worked per day: \"))\n",
    "\n",
    "temp_staff = TemporaryStaff(name, Id, days, hoursworked)\n",
    "temp_staff.display()"
   ]
  },
  {
   "cell_type": "code",
   "execution_count": null,
   "id": "5a0c91fb",
   "metadata": {},
   "outputs": [],
   "source": []
  }
 ],
 "metadata": {
  "kernelspec": {
   "display_name": "Python 3 (ipykernel)",
   "language": "python",
   "name": "python3"
  },
  "language_info": {
   "codemirror_mode": {
    "name": "ipython",
    "version": 3
   },
   "file_extension": ".py",
   "mimetype": "text/x-python",
   "name": "python",
   "nbconvert_exporter": "python",
   "pygments_lexer": "ipython3",
   "version": "3.11.5"
  }
 },
 "nbformat": 4,
 "nbformat_minor": 5
}

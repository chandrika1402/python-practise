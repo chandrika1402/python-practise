{
 "cells": [
  {
   "cell_type": "code",
   "execution_count": 2,
   "id": "3583070b",
   "metadata": {},
   "outputs": [
    {
     "name": "stdout",
     "output_type": "stream",
     "text": [
      "{0, 1, 4, 9, 16}\n"
     ]
    }
   ],
   "source": [
    "squares = {x ** 2 for x in range(5)}\n",
    "print(squares)"
   ]
  },
  {
   "cell_type": "code",
   "execution_count": 3,
   "id": "14228808",
   "metadata": {},
   "outputs": [],
   "source": [
    "numbers = [1,2,3,4,5]\n",
    "squared_numbers = {}"
   ]
  },
  {
   "cell_type": "code",
   "execution_count": 6,
   "id": "29c7420d",
   "metadata": {},
   "outputs": [
    {
     "name": "stdout",
     "output_type": "stream",
     "text": [
      "{2, 4}\n"
     ]
    }
   ],
   "source": [
    "#SET comparehension with Condition\n",
    "\n",
    "numbers = [1,2,3,4,5]\n",
    "even_number = {x for x in numbers if x % 2 == 0}\n",
    "print(even_number)"
   ]
  },
  {
   "cell_type": "code",
   "execution_count": 8,
   "id": "116adce0",
   "metadata": {},
   "outputs": [
    {
     "name": "stdout",
     "output_type": "stream",
     "text": [
      "{'apple', 'cherry', 'banana'}\n"
     ]
    }
   ],
   "source": [
    "#say the fruit name without vovel......!!\n",
    "\n",
    "words =['apple','banana','cherry','lyn']\n",
    "vowels={'a','e','i','o','u'}\n",
    "vowel_words={word for word in words if any(letter in vowels for letter in word)}\n",
    "print(vowel_words)"
   ]
  },
  {
   "cell_type": "code",
   "execution_count": 10,
   "id": "577e73c3",
   "metadata": {},
   "outputs": [
    {
     "name": "stdout",
     "output_type": "stream",
     "text": [
      "{1, 4, 36, 9, 16, 25}\n"
     ]
    }
   ],
   "source": [
    "#Eliminating Duplicates\n",
    "\n",
    "duplicates = {1,2,3,3,4,5,1,6}\n",
    "unique_squares = {x ** 2 for x in duplicates}\n",
    "print(unique_squares)"
   ]
  },
  {
   "cell_type": "code",
   "execution_count": 11,
   "id": "4572367f",
   "metadata": {},
   "outputs": [
    {
     "name": "stdout",
     "output_type": "stream",
     "text": [
      "{'O', 'W', 'R', 'E', 'D', 'L', 'H'}\n"
     ]
    }
   ],
   "source": [
    "#Create a set of uppercase letters from a string\n",
    "\n",
    "text = \"hello world\"\n",
    "uppercase_letters = {char.upper()for char in text if char.isalpha()}\n",
    "print(uppercase_letters)"
   ]
  },
  {
   "cell_type": "code",
   "execution_count": null,
   "id": "032b5170",
   "metadata": {},
   "outputs": [],
   "source": []
  }
 ],
 "metadata": {
  "kernelspec": {
   "display_name": "Python 3 (ipykernel)",
   "language": "python",
   "name": "python3"
  },
  "language_info": {
   "codemirror_mode": {
    "name": "ipython",
    "version": 3
   },
   "file_extension": ".py",
   "mimetype": "text/x-python",
   "name": "python",
   "nbconvert_exporter": "python",
   "pygments_lexer": "ipython3",
   "version": "3.11.5"
  }
 },
 "nbformat": 4,
 "nbformat_minor": 5
}

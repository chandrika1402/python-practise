{
 "cells": [
  {
   "cell_type": "code",
   "execution_count": null,
   "id": "4f8d4373",
   "metadata": {},
   "outputs": [],
   "source": [
    "class Normalroom:\n",
    "    def caluculate(self,room,n)\n",
    "    self.no_rooms=no_rooms\n",
    "    self.days=days\n",
    "         if days == 1:\n",
    "            rent = no_rooms*300*days\n",
    "            print(\"Rent = \",rent)\n",
    "        elif n<1 and n>=5:\n",
    "            rent = no_rooms*250*days\n",
    "            print(\"Rent = \",rent)\n",
    "        else:\n",
    "            rent = no_rooms*320*days\n",
    "            print(\"Rent =\",rent)\n",
    "class AC_room:\n",
    "    def caluculate(self,room,n)\n",
    "         if n=1:\n",
    "            rent = no_rooms*450*days\n",
    "            print(\"Rent = \",rent)\n",
    "        elif n<1 and n>=5:\n",
    "            rent = no_rooms*300*days\n",
    "            print(\"Rent =\",rent)\n",
    "        else:\n",
    "            rent = no_rooms*250*days\n",
    "            print(\"Rent = \",rent)\n",
    "class Suite_room:\n",
    "    def caluculate(self,room,n)\n",
    "        if n=1:\n",
    "            rent = no_rooms*550*days\n",
    "            print(\"Rent =\",rent)\n",
    "        elif n<1 and n>=5:\n",
    "            rent = no_rooms*500*days\n",
    "            print(\"Rent = \",rent)\n",
    "        else:\n",
    "            rent = no_rooms*450*days\n",
    "            print(\"Rent =\",rent)\n",
    "class Hotel(Normalroom,AC_room,Suite_room):\n",
    "name=input()\n",
    "address\n",
    "\n",
    "    "
   ]
  }
 ],
 "metadata": {
  "kernelspec": {
   "display_name": "Python 3 (ipykernel)",
   "language": "python",
   "name": "python3"
  },
  "language_info": {
   "codemirror_mode": {
    "name": "ipython",
    "version": 3
   },
   "file_extension": ".py",
   "mimetype": "text/x-python",
   "name": "python",
   "nbconvert_exporter": "python",
   "pygments_lexer": "ipython3",
   "version": "3.11.5"
  }
 },
 "nbformat": 4,
 "nbformat_minor": 5
}

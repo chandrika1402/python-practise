{
 "cells": [
  {
   "cell_type": "code",
   "execution_count": 12,
   "id": "9133f04e",
   "metadata": {},
   "outputs": [
    {
     "name": "stdout",
     "output_type": "stream",
     "text": [
      "k\n",
      "The given character is consonant\n"
     ]
    }
   ],
   "source": [
    "a=str(input())\n",
    "if a in 'aeiou':\n",
    "    print(\"The given charcter is vowel\")\n",
    "else:\n",
    "    print(\"The given character is consonant\")"
   ]
  },
  {
   "cell_type": "code",
   "execution_count": 13,
   "id": "93c1c428",
   "metadata": {},
   "outputs": [
    {
     "name": "stdout",
     "output_type": "stream",
     "text": [
      "i\n",
      "The given charcter is vowel\n"
     ]
    }
   ],
   "source": [
    "a=str(input())\n",
    "if a in 'aeiou':\n",
    "    print(\"The given charcter is vowel\")\n",
    "else:\n",
    "    print(\"The given character is consonant\")"
   ]
  },
  {
   "cell_type": "code",
   "execution_count": null,
   "id": "303d075f",
   "metadata": {},
   "outputs": [],
   "source": []
  }
 ],
 "metadata": {
  "kernelspec": {
   "display_name": "Python 3 (ipykernel)",
   "language": "python",
   "name": "python3"
  },
  "language_info": {
   "codemirror_mode": {
    "name": "ipython",
    "version": 3
   },
   "file_extension": ".py",
   "mimetype": "text/x-python",
   "name": "python",
   "nbconvert_exporter": "python",
   "pygments_lexer": "ipython3",
   "version": "3.11.5"
  }
 },
 "nbformat": 4,
 "nbformat_minor": 5
}

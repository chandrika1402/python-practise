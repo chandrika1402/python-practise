{
 "cells": [
  {
   "cell_type": "code",
   "execution_count": 1,
   "id": "9420e56a",
   "metadata": {},
   "outputs": [
    {
     "name": "stdout",
     "output_type": "stream",
     "text": [
      "()\n"
     ]
    }
   ],
   "source": [
    "#Creating Tuples\n",
    "empty_tuple = ()                 #Round Bracktes idecate that it is tuple with 0 values\n",
    "print(empty_tuple)"
   ]
  },
  {
   "cell_type": "code",
   "execution_count": 2,
   "id": "0630469f",
   "metadata": {},
   "outputs": [
    {
     "name": "stdout",
     "output_type": "stream",
     "text": [
      "(26, 45, 32)\n"
     ]
    }
   ],
   "source": [
    "value_tuple = (26,45,32)\n",
    "print(value_tuple)"
   ]
  },
  {
   "cell_type": "code",
   "execution_count": 3,
   "id": "6d3b2692",
   "metadata": {},
   "outputs": [
    {
     "name": "stdout",
     "output_type": "stream",
     "text": [
      "(26, 45, 32)\n"
     ]
    }
   ],
   "source": [
    "value_tuple = 26,45,32\n",
    "print(value_tuple)"
   ]
  },
  {
   "cell_type": "code",
   "execution_count": 4,
   "id": "dcd59178",
   "metadata": {},
   "outputs": [
    {
     "name": "stdout",
     "output_type": "stream",
     "text": [
      "(26, 45, 'hello')\n"
     ]
    }
   ],
   "source": [
    "# Tuple with different values\n",
    "value_tuple = (26,45,'hello')\n",
    "print(value_tuple)"
   ]
  },
  {
   "cell_type": "code",
   "execution_count": 5,
   "id": "efac16e5",
   "metadata": {},
   "outputs": [
    {
     "name": "stdout",
     "output_type": "stream",
     "text": [
      "hello\n"
     ]
    }
   ],
   "source": [
    "# creating a tuple with one element\n",
    "Tuple = (\"hello\")\n",
    "print(Tuple)"
   ]
  },
  {
   "cell_type": "code",
   "execution_count": 6,
   "id": "53e3e1d6",
   "metadata": {},
   "outputs": [
    {
     "name": "stdout",
     "output_type": "stream",
     "text": [
      "('hello',)\n"
     ]
    }
   ],
   "source": [
    "# creating a tuple with one element and comma\n",
    "Tuple = (\"hello\",)\n",
    "print(Tuple)"
   ]
  },
  {
   "cell_type": "code",
   "execution_count": 9,
   "id": "3e09824a",
   "metadata": {},
   "outputs": [
    {
     "name": "stdout",
     "output_type": "stream",
     "text": [
      "(26, 45, 'hello', 7, 56, 'python')\n"
     ]
    }
   ],
   "source": [
    "#concadination of tuples\n",
    "value1 = (26,45,'hello')\n",
    "value2= 7,56,'python'\n",
    "print(value1+value2)"
   ]
  },
  {
   "cell_type": "code",
   "execution_count": 10,
   "id": "9ce33e30",
   "metadata": {},
   "outputs": [
    {
     "name": "stdout",
     "output_type": "stream",
     "text": [
      "((26, 45, 'hello'), (7, 5.6, 'python'))\n"
     ]
    }
   ],
   "source": [
    "# Nesting of tuples\n",
    "value1_tuple=(26,45,'hello')\n",
    "value2_tuple=7,5.6,'python'\n",
    "value3_tuple=value1_tuple,value2_tuple\n",
    "print(value3_tuple)"
   ]
  },
  {
   "cell_type": "code",
   "execution_count": 13,
   "id": "9d73935a",
   "metadata": {},
   "outputs": [
    {
     "name": "stdout",
     "output_type": "stream",
     "text": [
      "(26, 45, 'hello', 26, 45, 'hello')\n"
     ]
    }
   ],
   "source": [
    "#Repetation\n",
    "value1_tuple=(26,45,'hello')*2\n",
    "print(value1_tuple)"
   ]
  },
  {
   "cell_type": "code",
   "execution_count": 15,
   "id": "f0021d81",
   "metadata": {},
   "outputs": [
    {
     "name": "stdout",
     "output_type": "stream",
     "text": [
      "7.5\n"
     ]
    }
   ],
   "source": [
    "#Access the value for index number\n",
    "value_tuple=(26,45,'hello',7.5)\n",
    "print(value_tuple[3])"
   ]
  },
  {
   "cell_type": "code",
   "execution_count": 16,
   "id": "7ce445fd",
   "metadata": {},
   "outputs": [
    {
     "name": "stdout",
     "output_type": "stream",
     "text": [
      "('hello', 7.5)\n"
     ]
    }
   ],
   "source": [
    "#Slicing the tuples\n",
    "value_tuple=(26,45,'hello',7.5)\n",
    "print(value_tuple[2:])"
   ]
  },
  {
   "cell_type": "code",
   "execution_count": 17,
   "id": "3e1deb18",
   "metadata": {},
   "outputs": [
    {
     "name": "stdout",
     "output_type": "stream",
     "text": [
      "(7.5,)\n"
     ]
    }
   ],
   "source": [
    "#Slicing the tuples\n",
    "value_tuple=(26,45,'hello',7.5)\n",
    "print(value_tuple[3:])"
   ]
  },
  {
   "cell_type": "code",
   "execution_count": 18,
   "id": "54f648d9",
   "metadata": {},
   "outputs": [
    {
     "name": "stdout",
     "output_type": "stream",
     "text": [
      "(26, 45)\n"
     ]
    }
   ],
   "source": [
    "#Slicing the tuples\n",
    "value_tuple=(26,45,'hello',7.5)\n",
    "print(value_tuple[:2])"
   ]
  },
  {
   "cell_type": "code",
   "execution_count": 19,
   "id": "a7a0390c",
   "metadata": {},
   "outputs": [
    {
     "name": "stdout",
     "output_type": "stream",
     "text": [
      "(26, 45, 'hello', 7.5, 'z', 5, 6.9)\n"
     ]
    }
   ],
   "source": [
    "#Slicing the tuples\n",
    "value_tuple=(26,45,'hello',7.5,'z',5,6.9)\n",
    "print(value_tuple[:7])"
   ]
  },
  {
   "cell_type": "code",
   "execution_count": 20,
   "id": "bad1d690",
   "metadata": {},
   "outputs": [
    {
     "name": "stdout",
     "output_type": "stream",
     "text": [
      "(26, 45, 'hello')\n"
     ]
    }
   ],
   "source": [
    "#Slicing the tuples\n",
    "value_tuple=(26,45,'hello',7.5,'z',5,6.9)\n",
    "print(value_tuple[:-4])"
   ]
  },
  {
   "cell_type": "code",
   "execution_count": 21,
   "id": "62fd215a",
   "metadata": {},
   "outputs": [
    {
     "name": "stdout",
     "output_type": "stream",
     "text": [
      "7.5\n"
     ]
    }
   ],
   "source": [
    "#Slicing the tuples\n",
    "value_tuple=(26,45,'hello',7.5,'z',5,6.9)\n",
    "print(value_tuple[-4])"
   ]
  },
  {
   "cell_type": "code",
   "execution_count": 22,
   "id": "f828d29c",
   "metadata": {},
   "outputs": [
    {
     "name": "stdout",
     "output_type": "stream",
     "text": [
      "(26, 'hello', 'z', 6.9)\n"
     ]
    }
   ],
   "source": [
    "#Slicing the tuples\n",
    "value_tuple=(26,45,'hello',7.5,'z',5,6.9)\n",
    "print(value_tuple[::2])"
   ]
  },
  {
   "cell_type": "code",
   "execution_count": 23,
   "id": "bd590686",
   "metadata": {},
   "outputs": [
    {
     "name": "stdout",
     "output_type": "stream",
     "text": [
      "(45, 7.5, 5)\n"
     ]
    }
   ],
   "source": [
    "#Slicing the tuples\n",
    "value_tuple=(26,45,'hello',7.5,'z',5,6.9)\n",
    "print(value_tuple[1::2])"
   ]
  },
  {
   "cell_type": "code",
   "execution_count": 25,
   "id": "c7fe2286",
   "metadata": {},
   "outputs": [
    {
     "name": "stdout",
     "output_type": "stream",
     "text": [
      "('hello', 'z', 6.9)\n"
     ]
    }
   ],
   "source": [
    "#Slicing the tuples\n",
    "value_tuple=(26,45,'hello',7.5,'z',5,6.9)\n",
    "print(value_tuple[2::2])"
   ]
  },
  {
   "cell_type": "code",
   "execution_count": 26,
   "id": "ed419ab4",
   "metadata": {},
   "outputs": [
    {
     "name": "stdout",
     "output_type": "stream",
     "text": [
      "(45, 7.5, 5)\n"
     ]
    }
   ],
   "source": [
    "#Slicing the tuples\n",
    "value_tuple=(26,45,'hello',7.5,'z',5,6.9)\n",
    "print(value_tuple[1:6:2])"
   ]
  },
  {
   "cell_type": "code",
   "execution_count": 27,
   "id": "f788ae4e",
   "metadata": {},
   "outputs": [
    {
     "ename": "NameError",
     "evalue": "name 'value_tuple' is not defined",
     "output_type": "error",
     "traceback": [
      "\u001b[1;31m---------------------------------------------------------------------------\u001b[0m",
      "\u001b[1;31mNameError\u001b[0m                                 Traceback (most recent call last)",
      "Cell \u001b[1;32mIn[27], line 4\u001b[0m\n\u001b[0;32m      2\u001b[0m value_tuple\u001b[38;5;241m=\u001b[39m(\u001b[38;5;241m26\u001b[39m,\u001b[38;5;241m45\u001b[39m,\u001b[38;5;124m'\u001b[39m\u001b[38;5;124mhello\u001b[39m\u001b[38;5;124m'\u001b[39m,\u001b[38;5;241m7.5\u001b[39m,\u001b[38;5;124m'\u001b[39m\u001b[38;5;124mz\u001b[39m\u001b[38;5;124m'\u001b[39m,\u001b[38;5;241m5\u001b[39m,\u001b[38;5;241m6.9\u001b[39m)\n\u001b[0;32m      3\u001b[0m \u001b[38;5;28;01mdel\u001b[39;00m(value_tuple)\n\u001b[1;32m----> 4\u001b[0m \u001b[38;5;28mprint\u001b[39m(value_tuple)\n",
      "\u001b[1;31mNameError\u001b[0m: name 'value_tuple' is not defined"
     ]
    }
   ],
   "source": [
    "#Deleting the tuples\n",
    "value_tuple=(26,45,'hello',7.5,'z',5,6.9)\n",
    "del(value_tuple)\n",
    "print(value_tuple)"
   ]
  },
  {
   "cell_type": "code",
   "execution_count": 1,
   "id": "eec6bfa3",
   "metadata": {},
   "outputs": [
    {
     "name": "stdout",
     "output_type": "stream",
     "text": [
      "('hello',)\n",
      "(('hello',),)\n",
      "((('hello',),),)\n"
     ]
    }
   ],
   "source": [
    "#Looping\n",
    "Tuple = ('hello')\n",
    "n = 3\n",
    "for i in range(int(n)):\n",
    "    Tuple =(Tuple,)\n",
    "    print(Tuple)\n"
   ]
  },
  {
   "cell_type": "code",
   "execution_count": 2,
   "id": "a7a8f779",
   "metadata": {},
   "outputs": [
    {
     "name": "stdout",
     "output_type": "stream",
     "text": [
      "5\n"
     ]
    }
   ],
   "source": [
    "#Built-in Functions  len-total no of elements present in the list\n",
    "tuple = ('developer',5,8.9,'r',8)\n",
    "print(len(tuple))"
   ]
  },
  {
   "cell_type": "code",
   "execution_count": 3,
   "id": "2a71b843",
   "metadata": {},
   "outputs": [
    {
     "name": "stdout",
     "output_type": "stream",
     "text": [
      "89\n"
     ]
    }
   ],
   "source": [
    "#Built-in Function\n",
    "tuple = (9,5,89,4,8)\n",
    "print(max(tuple))"
   ]
  },
  {
   "cell_type": "code",
   "execution_count": 4,
   "id": "16df9644",
   "metadata": {},
   "outputs": [
    {
     "name": "stdout",
     "output_type": "stream",
     "text": [
      "4\n"
     ]
    }
   ],
   "source": [
    "#Built-in Function\n",
    "tuple = (9,5,89,4,8)\n",
    "print(min(tuple))"
   ]
  },
  {
   "cell_type": "code",
   "execution_count": 5,
   "id": "5a7efe63",
   "metadata": {},
   "outputs": [
    {
     "name": "stdout",
     "output_type": "stream",
     "text": [
      "115\n"
     ]
    }
   ],
   "source": [
    "#Built-in Function\n",
    "tuple = (9,5,89,4,8)\n",
    "print(sum(tuple))"
   ]
  },
  {
   "cell_type": "code",
   "execution_count": 6,
   "id": "57a428d6",
   "metadata": {},
   "outputs": [
    {
     "name": "stdout",
     "output_type": "stream",
     "text": [
      "[4, 5, 8, 9, 89]\n"
     ]
    }
   ],
   "source": [
    "#Built-in Function\n",
    "tuple = (9,5,89,4,8)\n",
    "print(sorted(tuple))"
   ]
  },
  {
   "cell_type": "code",
   "execution_count": 7,
   "id": "dd60ae9e",
   "metadata": {},
   "outputs": [
    {
     "name": "stdout",
     "output_type": "stream",
     "text": [
      "True\n"
     ]
    }
   ],
   "source": [
    "#Built-in Function\n",
    "tuple=(0,1)\n",
    "print(any(tuple))"
   ]
  },
  {
   "cell_type": "code",
   "execution_count": 8,
   "id": "aeb504af",
   "metadata": {},
   "outputs": [
    {
     "name": "stdout",
     "output_type": "stream",
     "text": [
      "True\n"
     ]
    }
   ],
   "source": [
    "#Built-in Function\n",
    "tuple=(4,1)\n",
    "print(all(tuple))"
   ]
  },
  {
   "cell_type": "code",
   "execution_count": 9,
   "id": "b6920c38",
   "metadata": {},
   "outputs": [
    {
     "name": "stdout",
     "output_type": "stream",
     "text": [
      "False\n"
     ]
    }
   ],
   "source": [
    "#Built-in Function\n",
    "tuple=(0,5,7)\n",
    "print(all(tuple))"
   ]
  },
  {
   "cell_type": "code",
   "execution_count": 10,
   "id": "48f9b2ee",
   "metadata": {},
   "outputs": [
    {
     "name": "stdout",
     "output_type": "stream",
     "text": [
      "False\n"
     ]
    }
   ],
   "source": [
    "#Built-in Function\n",
    "tuple=(0,)\n",
    "print(any(tuple))"
   ]
  },
  {
   "cell_type": "code",
   "execution_count": 11,
   "id": "9bb09c92",
   "metadata": {},
   "outputs": [
    {
     "name": "stdout",
     "output_type": "stream",
     "text": [
      "False\n"
     ]
    }
   ],
   "source": [
    "#Built-in Function\n",
    "tuple=()\n",
    "print(any(tuple))"
   ]
  },
  {
   "cell_type": "code",
   "execution_count": 13,
   "id": "8aa80bf0",
   "metadata": {},
   "outputs": [
    {
     "name": "stdout",
     "output_type": "stream",
     "text": [
      "True\n"
     ]
    }
   ],
   "source": [
    "#Built-in Function\n",
    "tuple=()\n",
    "print(all(tuple))"
   ]
  },
  {
   "cell_type": "code",
   "execution_count": 16,
   "id": "0887d2e6",
   "metadata": {},
   "outputs": [
    {
     "name": "stdout",
     "output_type": "stream",
     "text": [
      "Apple\n",
      "byte\n",
      "Computer\n"
     ]
    }
   ],
   "source": [
    "#Predict The OutPut\n",
    "tuple=(\"Apple\",\"byte\",\"Computer\")\n",
    "for i in tuple:\n",
    "    print(i)"
   ]
  },
  {
   "cell_type": "code",
   "execution_count": null,
   "id": "60b3a9de",
   "metadata": {},
   "outputs": [],
   "source": [
    "#Predict The OutPut\n",
    "tuple=(\"Apple\",\"byte\",\"Computer\")\n",
    "n=2\n",
    "for i in range(n):\n",
    "    print(i)\n",
    "    "
   ]
  },
  {
   "cell_type": "code",
   "execution_count": 20,
   "id": "e2368251",
   "metadata": {},
   "outputs": [
    {
     "name": "stdout",
     "output_type": "stream",
     "text": [
      "['Apple', 'byte', 'Computer']\n"
     ]
    }
   ],
   "source": [
    "#Predict The OutPut\n",
    "tuple=(\"Apple\",\"byte\",\"Computer\")\n",
    "print(list(tuple))"
   ]
  },
  {
   "cell_type": "code",
   "execution_count": 19,
   "id": "81ec6246",
   "metadata": {},
   "outputs": [
    {
     "name": "stdout",
     "output_type": "stream",
     "text": [
      "2\n",
      "1\n",
      "0\n"
     ]
    }
   ],
   "source": [
    "# The count repeated values\n",
    "tuple=(3,7,'p','y','z',9.5,'y')\n",
    "print(tuple.count('y'))\n",
    "print(tuple.count(7))\n",
    "print(tuple.count(9))"
   ]
  },
  {
   "cell_type": "code",
   "execution_count": 22,
   "id": "ea9d1ba0",
   "metadata": {},
   "outputs": [
    {
     "name": "stdout",
     "output_type": "stream",
     "text": [
      "3\n",
      "1\n"
     ]
    }
   ],
   "source": [
    "#The Position of value is called index\n",
    "tuple=(3,7,'p','y','z',9.5,'y')\n",
    "print(tuple.index('y'))\n",
    "print(tuple.index(7))"
   ]
  },
  {
   "cell_type": "code",
   "execution_count": null,
   "id": "98203b5c",
   "metadata": {},
   "outputs": [],
   "source": []
  }
 ],
 "metadata": {
  "kernelspec": {
   "display_name": "Python 3 (ipykernel)",
   "language": "python",
   "name": "python3"
  },
  "language_info": {
   "codemirror_mode": {
    "name": "ipython",
    "version": 3
   },
   "file_extension": ".py",
   "mimetype": "text/x-python",
   "name": "python",
   "nbconvert_exporter": "python",
   "pygments_lexer": "ipython3",
   "version": "3.11.5"
  }
 },
 "nbformat": 4,
 "nbformat_minor": 5
}

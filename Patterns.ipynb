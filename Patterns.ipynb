{
 "cells": [
  {
   "cell_type": "code",
   "execution_count": 12,
   "id": "7220d5e8",
   "metadata": {},
   "outputs": [
    {
     "name": "stdout",
     "output_type": "stream",
     "text": [
      "* \n",
      "* * \n",
      "* * * \n",
      "* * * * \n",
      "* * * * * \n"
     ]
    }
   ],
   "source": [
    "# Print * \n",
    "#       * * \n",
    "#       * * *\n",
    "#       * * * * \n",
    "#       * * * * *\n",
    "   \n",
    "for i in range(0,5):\n",
    "        for j in range(0,i+1):\n",
    "             print(\"*\",end = \" \")\n",
    "        print()"
   ]
  },
  {
   "cell_type": "code",
   "execution_count": 20,
   "id": "fee2ee11",
   "metadata": {},
   "outputs": [
    {
     "name": "stdout",
     "output_type": "stream",
     "text": [
      "* * * * * \n",
      "* * * * \n",
      "* * * \n",
      "* * \n",
      "* \n"
     ]
    }
   ],
   "source": [
    "# Print  * * * * *\n",
    "#        * * * *\n",
    "#        * * *\n",
    "#        * *  \n",
    "#        * \n",
    "\n",
    "for i in range(0,5):\n",
    "      for j in range(i-5,0):\n",
    "            print(\"*\",end = \" \")\n",
    "      print()"
   ]
  },
  {
   "cell_type": "code",
   "execution_count": 23,
   "id": "11c172c5",
   "metadata": {},
   "outputs": [
    {
     "name": "stdout",
     "output_type": "stream",
     "text": [
      "1 1 1 1 1 \n",
      "2 2 2 2 2 2 \n",
      "3 3 3 3 3 3 3 \n",
      "4 4 4 4 4 4 4 4 \n",
      "5 5 5 5 5 5 5 5 5 \n"
     ]
    }
   ],
   "source": [
    "# Print  1\n",
    "#        2 2\n",
    "#        3 3 3\n",
    "#        4 4 4 4\n",
    "#        5 5 5 5 5\n",
    "for i in range(1,6):\n",
    "    for j in range (1,i+5):\n",
    "           print(i,end = \" \")\n",
    "    print()"
   ]
  },
  {
   "cell_type": "code",
   "execution_count": 11,
   "id": "3fc32ad9",
   "metadata": {},
   "outputs": [
    {
     "name": "stdout",
     "output_type": "stream",
     "text": [
      "****\n",
      "****\n",
      "****\n",
      "****\n"
     ]
    }
   ],
   "source": [
    "#Print * * * *\n",
    "#      * * * *\n",
    "#      * * * *\n",
    "#      * * * *\n",
    "n=4\n",
    "for i in range(n):\n",
    "    print('*'*n)\n",
    "    "
   ]
  },
  {
   "cell_type": "code",
   "execution_count": 32,
   "id": "2e47f3cb",
   "metadata": {},
   "outputs": [
    {
     "name": "stdout",
     "output_type": "stream",
     "text": [
      "* * * * \n",
      "  * * * * \n",
      "    * * * * \n",
      "      * * * * \n"
     ]
    }
   ],
   "source": [
    "#Print * * * *\n",
    "#        * * * *\n",
    "#           * * * *\n",
    "#             * * * *\n",
    "n = 4\n",
    "for i in range(n):\n",
    "    print(\" \" * (2 * i), end=\"\")\n",
    "    print(\"* \" * 4)\n"
   ]
  },
  {
   "cell_type": "code",
   "execution_count": 34,
   "id": "ec5ff764",
   "metadata": {},
   "outputs": [
    {
     "name": "stdout",
     "output_type": "stream",
     "text": [
      "        * \n",
      "      * * \n",
      "    * * * \n",
      "  * * * * \n",
      "* * * * * \n"
     ]
    }
   ],
   "source": [
    "# Print         *\n",
    "#             * *\n",
    "#           * * *\n",
    "#         * * * *\n",
    "#       * * * * *\n",
    "\n",
    "n = 5\n",
    "for i in range(1, n + 1):\n",
    "    for j in range(n - i):\n",
    "        print(\"  \", end=\"\") \n",
    "    for k in range(i):\n",
    "        print(\"* \", end=\"\")\n",
    "    print()"
   ]
  },
  {
   "cell_type": "code",
   "execution_count": null,
   "id": "09861192",
   "metadata": {},
   "outputs": [],
   "source": []
  }
 ],
 "metadata": {
  "kernelspec": {
   "display_name": "Python 3 (ipykernel)",
   "language": "python",
   "name": "python3"
  },
  "language_info": {
   "codemirror_mode": {
    "name": "ipython",
    "version": 3
   },
   "file_extension": ".py",
   "mimetype": "text/x-python",
   "name": "python",
   "nbconvert_exporter": "python",
   "pygments_lexer": "ipython3",
   "version": "3.11.5"
  }
 },
 "nbformat": 4,
 "nbformat_minor": 5
}

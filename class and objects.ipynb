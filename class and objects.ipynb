{
 "cells": [
  {
   "cell_type": "code",
   "execution_count": 9,
   "id": "32d69f49",
   "metadata": {},
   "outputs": [
    {
     "name": "stdout",
     "output_type": "stream",
     "text": [
      "Welcome to oops concept\n"
     ]
    }
   ],
   "source": [
    "class Python:\n",
    "    def fun(self):   ##self--> here it is method \n",
    "        print(\"Welcome to oops concept\")\n",
    "pyt = Python()\n",
    "pyt.fun()"
   ]
  },
  {
   "cell_type": "code",
   "execution_count": 19,
   "id": "61786e7e",
   "metadata": {},
   "outputs": [
    {
     "name": "stdout",
     "output_type": "stream",
     "text": [
      "name: AUDI id: 2000000\n"
     ]
    }
   ],
   "source": [
    "class Car:\n",
    "    'Common_car'\n",
    "    car=0\n",
    "    def __init__(self,name,id):\n",
    "        self.name=name\n",
    "        self.id=id\n",
    "        Car.car+=1\n",
    "    def printCardata(self):\n",
    "        print(\"name:\",self.name,\"id:\",self.id)\n",
    "c=Car('AUDI',2000000)\n",
    "c.printCardata()"
   ]
  },
  {
   "cell_type": "code",
   "execution_count": 27,
   "id": "b69bd423",
   "metadata": {},
   "outputs": [
    {
     "name": "stdout",
     "output_type": "stream",
     "text": [
      "chandrika 20 700000\n"
     ]
    }
   ],
   "source": [
    "class Employee:\n",
    "    def __init__(self,name,age,salary):\n",
    "        self.name=name\n",
    "        self.age=age\n",
    "        self.salary=salary\n",
    "    def display_data(self):\n",
    "        print(self.name,self.age,self.salary)\n",
    "\n",
    "e1=Employee(\"chandrika\",20,700000)\n",
    "e1.display_data()"
   ]
  },
  {
   "cell_type": "code",
   "execution_count": 28,
   "id": "e9f1a74c",
   "metadata": {},
   "outputs": [
    {
     "name": "stdout",
     "output_type": "stream",
     "text": [
      "Enter a number: 5\n",
      "The number 5.0 is Positive.\n"
     ]
    }
   ],
   "source": [
    "class Number:\n",
    "    def __init__(self, number):\n",
    "        self.number = number\n",
    "\n",
    "    def check_sign(self):\n",
    "        if self.number > 0:\n",
    "            return f\"The number {self.number} is Positive.\"\n",
    "        elif self.number < 0:\n",
    "            return f\"The number {self.number} is Negative.\"\n",
    "        else:\n",
    "            return f\"The number {self.number} is Zero.\"\n",
    "\n",
    "number = float(input(\"Enter a number: \"))\n",
    "n= Number(number)\n",
    "result = n.check_sign()\n",
    "print(result)\n",
    "\n",
    "    "
   ]
  },
  {
   "cell_type": "code",
   "execution_count": 29,
   "id": "6771006f",
   "metadata": {},
   "outputs": [
    {
     "name": "stdout",
     "output_type": "stream",
     "text": [
      "Positive values: 1 2\n",
      "Negative values: -1 -2\n"
     ]
    }
   ],
   "source": [
    "class Numbers:\n",
    "    def __init__(self, pos1, pos2, neg1, neg2):\n",
    "        self.pos1 = pos1\n",
    "        self.pos2 = pos2\n",
    "        self.neg1 = neg1\n",
    "        self.neg2 = neg2\n",
    "\n",
    "    def printdata(self):\n",
    "        print(\"Positive values:\", self.pos1, self.pos2)\n",
    "        print(\"Negative values:\", self.neg1, self.neg2)\n",
    "\n",
    "b = Numbers(1, 2, -1, -2)\n",
    "b.printdata()"
   ]
  },
  {
   "cell_type": "code",
   "execution_count": 39,
   "id": "5f84d2d5",
   "metadata": {},
   "outputs": [
    {
     "name": "stdout",
     "output_type": "stream",
     "text": [
      "Number is positive\n"
     ]
    }
   ],
   "source": [
    "class Number:\n",
    "    def __init__(self ,Number):\n",
    "        self.Number=Number\n",
    "    def check_num(self):\n",
    "        if self.Number>=0:\n",
    "            print(\"Number is positive\")\n",
    "        else:\n",
    "            print(\"Number is negative\")\n",
    "\n",
    "n=Number(2)\n",
    "n.check_num()"
   ]
  },
  {
   "cell_type": "code",
   "execution_count": 40,
   "id": "8c2efe98",
   "metadata": {},
   "outputs": [
    {
     "name": "stdout",
     "output_type": "stream",
     "text": [
      "Total Cars:  3\n",
      "name: AUDI id: 2000000\n",
      "name: BENZ id: 3000000\n",
      "name: BMW id: 3000000\n"
     ]
    }
   ],
   "source": [
    "class Car:\n",
    "    'Common_car'\n",
    "    car=0\n",
    "    def __init__(self,name,id):\n",
    "        self.name=name\n",
    "        self.id=id\n",
    "        Car.car+=1\n",
    "    def printCardata(self):\n",
    "        print(\"name:\",self.name,\"id:\",self.id)\n",
    "c=Car('AUDI',2000000)\n",
    "c1=Car('BENZ',3000000)\n",
    "c2=Car('BMW',3000000)\n",
    "print(\"Total Cars: \",Car.car)\n",
    "c.printCardata()\n",
    "c1.printCardata()\n",
    "c2.printCardata()"
   ]
  },
  {
   "cell_type": "code",
   "execution_count": 48,
   "id": "5cc77ca7",
   "metadata": {},
   "outputs": [
    {
     "name": "stdout",
     "output_type": "stream",
     "text": [
      "Car\n"
     ]
    }
   ],
   "source": [
    "class Test:\n",
    "    def __init__(self):\n",
    "        self.variable = 'Car'\n",
    "        self.Change(self.variable)\n",
    "    def Change(self, var):\n",
    "         var = 'Bike'\n",
    "obj=Test()\n",
    "print(obj.variable)"
   ]
  },
  {
   "cell_type": "code",
   "execution_count": 49,
   "id": "f6c28096",
   "metadata": {},
   "outputs": [
    {
     "name": "stdout",
     "output_type": "stream",
     "text": [
      "Car\n"
     ]
    }
   ],
   "source": [
    "class Test:\n",
    "    def __init__(self):\n",
    "        self.variable = 'Car'\n",
    "        self.Change(self.variable)\n",
    "    def Change(self, var):\n",
    "         self.var = 'Bike'\n",
    "obj=Test()\n",
    "print(obj.variable)"
   ]
  },
  {
   "cell_type": "code",
   "execution_count": 1,
   "id": "8910f3ed",
   "metadata": {},
   "outputs": [
    {
     "name": "stdout",
     "output_type": "stream",
     "text": [
      "Engine is Powerful\n",
      "100km\n"
     ]
    }
   ],
   "source": [
    "class Car:\n",
    "    def speed(self):\n",
    "        print(\"100km\")\n",
    "class Audi(Car):\n",
    "    def engine(self):\n",
    "        print(\"Engine is Powerful\")\n",
    "c= Audi()\n",
    "c.engine()\n",
    "c.speed()"
   ]
  },
  {
   "cell_type": "code",
   "execution_count": 3,
   "id": "700d4bc9",
   "metadata": {},
   "outputs": [
    {
     "name": "stdout",
     "output_type": "stream",
     "text": [
      "5\n"
     ]
    },
    {
     "ename": "AttributeError",
     "evalue": "'float' object has no attribute 'check_sign'",
     "output_type": "error",
     "traceback": [
      "\u001b[1;31m---------------------------------------------------------------------------\u001b[0m",
      "\u001b[1;31mAttributeError\u001b[0m                            Traceback (most recent call last)",
      "Cell \u001b[1;32mIn[3], line 10\u001b[0m\n\u001b[0;32m      8\u001b[0m             \u001b[38;5;28mprint\u001b[39m(\u001b[38;5;124m\"\u001b[39m\u001b[38;5;124mNumber is negative\u001b[39m\u001b[38;5;124m\"\u001b[39m)\n\u001b[0;32m      9\u001b[0m n\u001b[38;5;241m=\u001b[39m \u001b[38;5;28mfloat\u001b[39m(\u001b[38;5;28minput\u001b[39m())\n\u001b[1;32m---> 10\u001b[0m result \u001b[38;5;241m=\u001b[39m n\u001b[38;5;241m.\u001b[39mcheck_sign()\n\u001b[0;32m     11\u001b[0m \u001b[38;5;28mprint\u001b[39m(result)\n",
      "\u001b[1;31mAttributeError\u001b[0m: 'float' object has no attribute 'check_sign'"
     ]
    }
   ],
   "source": [
    "class Number:\n",
    "    def __init__(self,Number):\n",
    "        self.Number = Number\n",
    "    def check_num(self):\n",
    "        if self.Number >= 0:\n",
    "            print(\"Number is Positive\")\n",
    "        else:\n",
    "            print(\"Number is negative\")\n",
    "n= float(input())\n",
    "result = n.check_sign()\n",
    "print(result)"
   ]
  },
  {
   "cell_type": "code",
   "execution_count": null,
   "id": "44d6b81b",
   "metadata": {},
   "outputs": [],
   "source": []
  }
 ],
 "metadata": {
  "kernelspec": {
   "display_name": "Python 3 (ipykernel)",
   "language": "python",
   "name": "python3"
  },
  "language_info": {
   "codemirror_mode": {
    "name": "ipython",
    "version": 3
   },
   "file_extension": ".py",
   "mimetype": "text/x-python",
   "name": "python",
   "nbconvert_exporter": "python",
   "pygments_lexer": "ipython3",
   "version": "3.11.5"
  }
 },
 "nbformat": 4,
 "nbformat_minor": 5
}

{
 "cells": [
  {
   "cell_type": "code",
   "execution_count": 3,
   "id": "8a2fa660",
   "metadata": {},
   "outputs": [
    {
     "name": "stdout",
     "output_type": "stream",
     "text": [
      "5\n",
      "ODD\n"
     ]
    }
   ],
   "source": [
    "class Check:\n",
    "    def odd_even(self):\n",
    "        _n=int(input())\n",
    "        if _n%2==0:\n",
    "            print(\"EVEN\")\n",
    "        else:\n",
    "            print(\"ODD\")\n",
    "ob=Check()\n",
    "ob.odd_even()"
   ]
  },
  {
   "cell_type": "code",
   "execution_count": null,
   "id": "d4a77895",
   "metadata": {},
   "outputs": [],
   "source": []
  }
 ],
 "metadata": {
  "kernelspec": {
   "display_name": "Python 3 (ipykernel)",
   "language": "python",
   "name": "python3"
  },
  "language_info": {
   "codemirror_mode": {
    "name": "ipython",
    "version": 3
   },
   "file_extension": ".py",
   "mimetype": "text/x-python",
   "name": "python",
   "nbconvert_exporter": "python",
   "pygments_lexer": "ipython3",
   "version": "3.11.5"
  }
 },
 "nbformat": 4,
 "nbformat_minor": 5
}

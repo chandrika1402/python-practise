{
 "cells": [
  {
   "cell_type": "code",
   "execution_count": 1,
   "id": "c77e97eb",
   "metadata": {},
   "outputs": [],
   "source": [
    "month1_set = {\"Jan\", \"Feb\" ,\"Dec\" ,\"Mar\"}\n",
    "month2_set = {\"Jan\", \"Feb\"}"
   ]
  },
  {
   "cell_type": "code",
   "execution_count": 2,
   "id": "17aca7f3",
   "metadata": {},
   "outputs": [
    {
     "data": {
      "text/plain": [
       "True"
      ]
     },
     "execution_count": 2,
     "metadata": {},
     "output_type": "execute_result"
    }
   ],
   "source": [
    "month1_set > month2_set"
   ]
  },
  {
   "cell_type": "code",
   "execution_count": 3,
   "id": "3a3e0915",
   "metadata": {},
   "outputs": [
    {
     "data": {
      "text/plain": [
       "False"
      ]
     },
     "execution_count": 3,
     "metadata": {},
     "output_type": "execute_result"
    }
   ],
   "source": [
    "month2_set > month1_set"
   ]
  },
  {
   "cell_type": "code",
   "execution_count": 4,
   "id": "0d3ad734",
   "metadata": {},
   "outputs": [
    {
     "data": {
      "text/plain": [
       "False"
      ]
     },
     "execution_count": 4,
     "metadata": {},
     "output_type": "execute_result"
    }
   ],
   "source": [
    "month1_set < month2_set"
   ]
  },
  {
   "cell_type": "code",
   "execution_count": 5,
   "id": "2fc4a3ab",
   "metadata": {},
   "outputs": [
    {
     "data": {
      "text/plain": [
       "True"
      ]
     },
     "execution_count": 5,
     "metadata": {},
     "output_type": "execute_result"
    }
   ],
   "source": [
    "month2_set < month1_set"
   ]
  },
  {
   "cell_type": "code",
   "execution_count": null,
   "id": "4d73f432",
   "metadata": {},
   "outputs": [],
   "source": []
  }
 ],
 "metadata": {
  "kernelspec": {
   "display_name": "Python 3 (ipykernel)",
   "language": "python",
   "name": "python3"
  },
  "language_info": {
   "codemirror_mode": {
    "name": "ipython",
    "version": 3
   },
   "file_extension": ".py",
   "mimetype": "text/x-python",
   "name": "python",
   "nbconvert_exporter": "python",
   "pygments_lexer": "ipython3",
   "version": "3.11.5"
  }
 },
 "nbformat": 4,
 "nbformat_minor": 5
}

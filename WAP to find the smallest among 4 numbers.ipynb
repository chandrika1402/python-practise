{
 "cells": [
  {
   "cell_type": "code",
   "execution_count": 2,
   "id": "d3ab9269",
   "metadata": {},
   "outputs": [
    {
     "name": "stdout",
     "output_type": "stream",
     "text": [
      "5\n",
      "10\n",
      "4\n",
      "1\n",
      "The amallest number 1\n"
     ]
    }
   ],
   "source": [
    "a=int(input())\n",
    "b=int(input())\n",
    "c=int(input())\n",
    "d=int(input())\n",
    "if a<b and a<c and a<d:\n",
    "    print(\"The smallest number\",a)\n",
    "elif b<a and b<c and b<d:\n",
    "    print(\"The smallest number\",b)\n",
    "elif c<a and c<b and c<d:\n",
    "    print(\"The smallest number\",c)\n",
    "else:\n",
    "    print(\"The amallest number\",d)"
   ]
  },
  {
   "cell_type": "code",
   "execution_count": 3,
   "id": "187be9cf",
   "metadata": {},
   "outputs": [
    {
     "name": "stdout",
     "output_type": "stream",
     "text": [
      "1\n",
      "4\n",
      "5\n",
      "10\n",
      "The smallest number 1\n"
     ]
    }
   ],
   "source": [
    "a=int(input())\n",
    "b=int(input())\n",
    "c=int(input())\n",
    "d=int(input())\n",
    "if a<b and a<c and a<d:\n",
    "    print(\"The smallest number\",a)\n",
    "elif b<a and b<c and b<d:\n",
    "    print(\"The smallest number\",b)\n",
    "elif c<a and c<b and c<d:\n",
    "    print(\"The smallest number\",c)\n",
    "else:\n",
    "    print(\"The amallest number\",d)"
   ]
  },
  {
   "cell_type": "code",
   "execution_count": 4,
   "id": "34eb2adc",
   "metadata": {},
   "outputs": [
    {
     "name": "stdout",
     "output_type": "stream",
     "text": [
      "4\n",
      "2\n",
      "5\n",
      "10\n",
      "The smallest number 2\n"
     ]
    }
   ],
   "source": [
    "a=int(input())\n",
    "b=int(input())\n",
    "c=int(input())\n",
    "d=int(input())\n",
    "if a<b and a<c and a<d:\n",
    "    print(\"The smallest number\",a)\n",
    "elif b<a and b<c and b<d:\n",
    "    print(\"The smallest number\",b)\n",
    "elif c<a and c<b and c<d:\n",
    "    print(\"The smallest number\",c)\n",
    "else:\n",
    "    print(\"The amallest number\",d)"
   ]
  },
  {
   "cell_type": "code",
   "execution_count": null,
   "id": "e09f582a",
   "metadata": {},
   "outputs": [],
   "source": []
  }
 ],
 "metadata": {
  "kernelspec": {
   "display_name": "Python 3 (ipykernel)",
   "language": "python",
   "name": "python3"
  },
  "language_info": {
   "codemirror_mode": {
    "name": "ipython",
    "version": 3
   },
   "file_extension": ".py",
   "mimetype": "text/x-python",
   "name": "python",
   "nbconvert_exporter": "python",
   "pygments_lexer": "ipython3",
   "version": "3.11.5"
  }
 },
 "nbformat": 4,
 "nbformat_minor": 5
}

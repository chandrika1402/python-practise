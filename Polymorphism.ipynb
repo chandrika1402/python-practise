{
 "cells": [
  {
   "cell_type": "code",
   "execution_count": 12,
   "id": "ec9c50bf",
   "metadata": {},
   "outputs": [
    {
     "name": "stdout",
     "output_type": "stream",
     "text": [
      "5\n",
      "15\n",
      "30\n"
     ]
    }
   ],
   "source": [
    "class Calc:\n",
    "    def add(self, *args):\n",
    "        return sum(args)\n",
    "def main():\n",
    "    result = Calc()\n",
    "    print(result.add(5))\n",
    "    print(result.add(5,10))\n",
    "    print(result.add(5,10,15))\n",
    "    \n",
    "main()"
   ]
  },
  {
   "cell_type": "code",
   "execution_count": null,
   "id": "96ed2887",
   "metadata": {},
   "outputs": [],
   "source": []
  }
 ],
 "metadata": {
  "kernelspec": {
   "display_name": "Python 3 (ipykernel)",
   "language": "python",
   "name": "python3"
  },
  "language_info": {
   "codemirror_mode": {
    "name": "ipython",
    "version": 3
   },
   "file_extension": ".py",
   "mimetype": "text/x-python",
   "name": "python",
   "nbconvert_exporter": "python",
   "pygments_lexer": "ipython3",
   "version": "3.11.5"
  }
 },
 "nbformat": 4,
 "nbformat_minor": 5
}

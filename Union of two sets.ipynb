{
 "cells": [
  {
   "cell_type": "code",
   "execution_count": 1,
   "id": "da579051",
   "metadata": {},
   "outputs": [],
   "source": [
    "month1_set = {\"Jan\",\"Feb\",\"Dec\",\"Mar\"}\n",
    "month2_set = {\"May\",\"Jan\",\"Oct\",\"Mar\"}"
   ]
  },
  {
   "cell_type": "code",
   "execution_count": 2,
   "id": "531d0678",
   "metadata": {},
   "outputs": [
    {
     "data": {
      "text/plain": [
       "{'Dec', 'Feb', 'Jan', 'Mar'}"
      ]
     },
     "execution_count": 2,
     "metadata": {},
     "output_type": "execute_result"
    }
   ],
   "source": [
    "month1_set"
   ]
  },
  {
   "cell_type": "code",
   "execution_count": 3,
   "id": "c85068d6",
   "metadata": {},
   "outputs": [
    {
     "data": {
      "text/plain": [
       "{'Jan', 'Mar', 'May', 'Oct'}"
      ]
     },
     "execution_count": 3,
     "metadata": {},
     "output_type": "execute_result"
    }
   ],
   "source": [
    "month2_set"
   ]
  },
  {
   "cell_type": "code",
   "execution_count": 5,
   "id": "0f066f4b",
   "metadata": {},
   "outputs": [
    {
     "data": {
      "text/plain": [
       "{'Dec', 'Feb', 'Jan', 'Mar', 'May', 'Oct'}"
      ]
     },
     "execution_count": 5,
     "metadata": {},
     "output_type": "execute_result"
    }
   ],
   "source": [
    "month=month1_set | month2_set                       #Concadination of two sets\n",
    "month"
   ]
  },
  {
   "cell_type": "code",
   "execution_count": 6,
   "id": "26672b45",
   "metadata": {},
   "outputs": [
    {
     "data": {
      "text/plain": [
       "{'Dec', 'Feb', 'Jan', 'Mar', 'May', 'Oct'}"
      ]
     },
     "execution_count": 6,
     "metadata": {},
     "output_type": "execute_result"
    }
   ],
   "source": [
    "month_common=month1_set.union(month2_set)              #Concadination of two sets\n",
    "month_common"
   ]
  },
  {
   "cell_type": "code",
   "execution_count": 7,
   "id": "80bd5875",
   "metadata": {},
   "outputs": [
    {
     "data": {
      "text/plain": [
       "{'Jan', 'Mar'}"
      ]
     },
     "execution_count": 7,
     "metadata": {},
     "output_type": "execute_result"
    }
   ],
   "source": [
    "common = month1_set & month2_set                    #union of two sets\n",
    "common"
   ]
  },
  {
   "cell_type": "code",
   "execution_count": 8,
   "id": "4c8ed368",
   "metadata": {},
   "outputs": [
    {
     "data": {
      "text/plain": [
       "{'Jan', 'Mar'}"
      ]
     },
     "execution_count": 8,
     "metadata": {},
     "output_type": "execute_result"
    }
   ],
   "source": [
    "month_common = month1_set.intersection(month2_set)          #union of two sets\n",
    "month_common"
   ]
  },
  {
   "cell_type": "code",
   "execution_count": 10,
   "id": "2b71ce6d",
   "metadata": {},
   "outputs": [
    {
     "data": {
      "text/plain": [
       "{'Dec', 'Feb'}"
      ]
     },
     "execution_count": 10,
     "metadata": {},
     "output_type": "execute_result"
    }
   ],
   "source": [
    "diff = (month1_set - month2_set)                           #Differece between the sets\n",
    "diff"
   ]
  },
  {
   "cell_type": "code",
   "execution_count": 11,
   "id": "6616eb68",
   "metadata": {},
   "outputs": [
    {
     "data": {
      "text/plain": [
       "{'Dec', 'Feb'}"
      ]
     },
     "execution_count": 11,
     "metadata": {},
     "output_type": "execute_result"
    }
   ],
   "source": [
    "x=month1_set.difference(month2_set)                       #Differece between the sets\n",
    "x"
   ]
  },
  {
   "cell_type": "code",
   "execution_count": null,
   "id": "346449a8",
   "metadata": {},
   "outputs": [],
   "source": []
  }
 ],
 "metadata": {
  "kernelspec": {
   "display_name": "Python 3 (ipykernel)",
   "language": "python",
   "name": "python3"
  },
  "language_info": {
   "codemirror_mode": {
    "name": "ipython",
    "version": 3
   },
   "file_extension": ".py",
   "mimetype": "text/x-python",
   "name": "python",
   "nbconvert_exporter": "python",
   "pygments_lexer": "ipython3",
   "version": "3.11.5"
  }
 },
 "nbformat": 4,
 "nbformat_minor": 5
}

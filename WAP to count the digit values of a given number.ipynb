{
 "cells": [
  {
   "cell_type": "code",
   "execution_count": 5,
   "id": "e9a824e6",
   "metadata": {},
   "outputs": [
    {
     "name": "stdout",
     "output_type": "stream",
     "text": [
      "1025\n",
      "Digit: 4\n"
     ]
    }
   ],
   "source": [
    "x =int(input())\n",
    "z =str(x)\n",
    "digit = 0\n",
    "for i in z:\n",
    "        digit+=1\n",
    "print(\"Digit:\" , digit)"
   ]
  },
  {
   "cell_type": "code",
   "execution_count": 6,
   "id": "0311f57e",
   "metadata": {},
   "outputs": [
    {
     "name": "stdout",
     "output_type": "stream",
     "text": [
      "9502047028\n",
      "Digit: 10\n"
     ]
    }
   ],
   "source": [
    "x =int(input())\n",
    "z =str(x)\n",
    "digit = 0\n",
    "for i in z:\n",
    "        digit+=1\n",
    "print(\"Digit:\" , digit)"
   ]
  },
  {
   "cell_type": "code",
   "execution_count": null,
   "id": "a9a90ba0",
   "metadata": {},
   "outputs": [],
   "source": []
  }
 ],
 "metadata": {
  "kernelspec": {
   "display_name": "Python 3 (ipykernel)",
   "language": "python",
   "name": "python3"
  },
  "language_info": {
   "codemirror_mode": {
    "name": "ipython",
    "version": 3
   },
   "file_extension": ".py",
   "mimetype": "text/x-python",
   "name": "python",
   "nbconvert_exporter": "python",
   "pygments_lexer": "ipython3",
   "version": "3.11.5"
  }
 },
 "nbformat": 4,
 "nbformat_minor": 5
}

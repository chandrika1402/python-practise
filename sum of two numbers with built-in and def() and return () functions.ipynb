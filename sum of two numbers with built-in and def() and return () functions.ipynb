{
 "cells": [
  {
   "cell_type": "code",
   "execution_count": 1,
   "id": "d7d63e99",
   "metadata": {},
   "outputs": [
    {
     "name": "stdout",
     "output_type": "stream",
     "text": [
      "Enter the number10\n",
      "Enter the number5\n",
      "Enter the number2\n",
      "17\n"
     ]
    }
   ],
   "source": [
    "def sum(n1,n2,n3):\n",
    "    s=n1+n2+n3\n",
    "    return s\n",
    "x=int(input(\"Enter the number\"))\n",
    "y=int(input(\"Enter the number\"))\n",
    "z=int(input(\"Enter the number\"))\n",
    "print(sum(x,y,z))"
   ]
  },
  {
   "cell_type": "code",
   "execution_count": 2,
   "id": "735fe195",
   "metadata": {},
   "outputs": [
    {
     "name": "stdout",
     "output_type": "stream",
     "text": [
      "Enter the number10\n",
      "Enter the number5.5\n",
      "Enter the number2\n",
      "17.5\n"
     ]
    }
   ],
   "source": [
    "def sum(n1,n2,n3):\n",
    "    s=n1+n2+n3\n",
    "    return s\n",
    "x=int(input(\"Enter the number\"))\n",
    "y=float(input(\"Enter the number\"))\n",
    "z=int(input(\"Enter the number\"))\n",
    "print(sum(x,y,z))"
   ]
  },
  {
   "cell_type": "code",
   "execution_count": 7,
   "id": "06221463",
   "metadata": {},
   "outputs": [
    {
     "ename": "IndentationError",
     "evalue": "expected an indented block after function definition on line 1 (3485274083.py, line 2)",
     "output_type": "error",
     "traceback": [
      "\u001b[1;36m  Cell \u001b[1;32mIn[7], line 2\u001b[1;36m\u001b[0m\n\u001b[1;33m    def product(n1,n2,n3):\u001b[0m\n\u001b[1;37m    ^\u001b[0m\n\u001b[1;31mIndentationError\u001b[0m\u001b[1;31m:\u001b[0m expected an indented block after function definition on line 1\n"
     ]
    }
   ],
   "source": [
    "def sum(n1,n2,n3):\n",
    "def product(n1,n2,n3):\n",
    "    s=n1+n2+n3\n",
    "    p=n1*n2*n3\n",
    "    return s , p\n",
    "x=int(input(\"Enter the number\"))\n",
    "y=float(input(\"Enter the number\"))\n",
    "z=int(input(\"Enter the number\"))\n",
    "print(sum(x,y,z))\n",
    "print(product(x,y,z))"
   ]
  },
  {
   "cell_type": "code",
   "execution_count": null,
   "id": "f309832a",
   "metadata": {},
   "outputs": [],
   "source": []
  }
 ],
 "metadata": {
  "kernelspec": {
   "display_name": "Python 3 (ipykernel)",
   "language": "python",
   "name": "python3"
  },
  "language_info": {
   "codemirror_mode": {
    "name": "ipython",
    "version": 3
   },
   "file_extension": ".py",
   "mimetype": "text/x-python",
   "name": "python",
   "nbconvert_exporter": "python",
   "pygments_lexer": "ipython3",
   "version": "3.11.5"
  }
 },
 "nbformat": 4,
 "nbformat_minor": 5
}

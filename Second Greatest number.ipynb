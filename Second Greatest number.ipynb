{
 "cells": [
  {
   "cell_type": "code",
   "execution_count": 2,
   "id": "2a792f77",
   "metadata": {},
   "outputs": [
    {
     "name": "stdout",
     "output_type": "stream",
     "text": [
      "enter the number a:5\n",
      "enter the number b:4\n",
      "enter the number c:6\n",
      "The Second largest a\n"
     ]
    }
   ],
   "source": [
    "a=int(input(\"enter the number a:\"))\n",
    "b=int(input(\"enter the number b:\"))\n",
    "c=int(input(\"enter the number c:\"))\n",
    "\n",
    "if a>=b and a<=c:\n",
    "    print(\"The Second largest a\")\n",
    "elif b>=c and b<=a:\n",
    "    print(\"The Second largest b\")\n",
    "else:\n",
    "    print(\"The Second largest c\")"
   ]
  },
  {
   "cell_type": "code",
   "execution_count": 4,
   "id": "869b2bfd",
   "metadata": {},
   "outputs": [
    {
     "name": "stdout",
     "output_type": "stream",
     "text": [
      "enter the number a:4\n",
      "enter the number b:5\n",
      "enter the number c:6\n",
      "The Second largest b\n"
     ]
    }
   ],
   "source": [
    "a=int(input(\"enter the number a:\"))\n",
    "b=int(input(\"enter the number b:\"))\n",
    "c=int(input(\"enter the number c:\"))\n",
    "\n",
    "if a>=b and a<=c:\n",
    "    print(\"The Second largest a\")\n",
    "elif b<=c and b>=a:\n",
    "    print(\"The Second largest b\")\n",
    "else:\n",
    "    print(\"The Second largest c\")"
   ]
  },
  {
   "cell_type": "code",
   "execution_count": 5,
   "id": "f49fabb7",
   "metadata": {},
   "outputs": [
    {
     "name": "stdout",
     "output_type": "stream",
     "text": [
      "enter the number a:1\n",
      "enter the number b:2\n",
      "enter the number c:23\n",
      "The Second largest b\n"
     ]
    }
   ],
   "source": [
    "a=int(input(\"enter the number a:\"))\n",
    "b=int(input(\"enter the number b:\"))\n",
    "c=int(input(\"enter the number c:\"))\n",
    "\n",
    "if a>=b and a<=c:\n",
    "    print(\"The Second largest a\")\n",
    "elif b<=c and b>=a:\n",
    "    print(\"The Second largest b\")\n",
    "else:\n",
    "    print(\"The Second largest c\")"
   ]
  },
  {
   "cell_type": "code",
   "execution_count": null,
   "id": "a4acdd29",
   "metadata": {},
   "outputs": [],
   "source": []
  }
 ],
 "metadata": {
  "kernelspec": {
   "display_name": "Python 3 (ipykernel)",
   "language": "python",
   "name": "python3"
  },
  "language_info": {
   "codemirror_mode": {
    "name": "ipython",
    "version": 3
   },
   "file_extension": ".py",
   "mimetype": "text/x-python",
   "name": "python",
   "nbconvert_exporter": "python",
   "pygments_lexer": "ipython3",
   "version": "3.11.5"
  }
 },
 "nbformat": 4,
 "nbformat_minor": 5
}

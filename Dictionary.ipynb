{
 "cells": [
  {
   "cell_type": "code",
   "execution_count": 1,
   "id": "c0bdb368",
   "metadata": {},
   "outputs": [],
   "source": [
    "# Unordered, indexed , changeable\n",
    "# Dictionary holds key : value\n",
    "# keys can't be repeated whereas values can be duplicate"
   ]
  },
  {
   "cell_type": "code",
   "execution_count": 2,
   "id": "139e21db",
   "metadata": {},
   "outputs": [
    {
     "name": "stdout",
     "output_type": "stream",
     "text": [
      "{}\n"
     ]
    }
   ],
   "source": [
    "dic={}\n",
    "print(dic)"
   ]
  },
  {
   "cell_type": "code",
   "execution_count": 3,
   "id": "778a1520",
   "metadata": {},
   "outputs": [
    {
     "name": "stdout",
     "output_type": "stream",
     "text": [
      "{1: 'Focus', 2: 'Acadamy', 3: 'for', 4: 'Career', 5: 'Enchancement'}\n"
     ]
    }
   ],
   "source": [
    "#Create a dictionary with the integer keys\n",
    "\n",
    "dic={1:\"Focus\",2:\"Acadamy\",3:\"for\",4:\"Career\",5:\"Enchancement\"}\n",
    "print(dic)"
   ]
  },
  {
   "cell_type": "code",
   "execution_count": 4,
   "id": "9f3346be",
   "metadata": {},
   "outputs": [],
   "source": [
    "#Creating a dictionary with dict()\n",
    "\n",
    "dic = dict({1:[2,4,5],\"Name\":\"Face\",})"
   ]
  },
  {
   "cell_type": "code",
   "execution_count": 5,
   "id": "094f94b2",
   "metadata": {},
   "outputs": [
    {
     "name": "stdout",
     "output_type": "stream",
     "text": [
      "{1: 2, 'Name': 'Face', 4: 5}\n"
     ]
    }
   ],
   "source": [
    "#Creating a dictionary with pair elements\n",
    "\n",
    "dic=dict([(1,2),(\"Name\",\"Face\"),(4,5)])\n",
    "print(dic)"
   ]
  },
  {
   "cell_type": "code",
   "execution_count": 6,
   "id": "44c9949f",
   "metadata": {},
   "outputs": [
    {
     "name": "stdout",
     "output_type": "stream",
     "text": [
      "{0: 'Apple', 1: 'Hard'}\n"
     ]
    }
   ],
   "source": [
    "#Adding elements to a dictionary\n",
    "dic = {}\n",
    "dic[0]=\"Apple\"\n",
    "dic[1]=\"Hard\"\n",
    "print(dic)\n",
    "dic['new_set']=1,5"
   ]
  },
  {
   "cell_type": "code",
   "execution_count": 8,
   "id": "8ebeee24",
   "metadata": {},
   "outputs": [
    {
     "name": "stdout",
     "output_type": "stream",
     "text": [
      "(1, 5, 8)\n",
      "Hard\n"
     ]
    }
   ],
   "source": [
    "#Accessing elements using key\n",
    "dic = {0:'Apple',1:\"Hard\",3:\"work\",'new_set':(1,5,8)}\n",
    "print(dic.get(\"new_set\"))\n",
    "print(dic.get(1))"
   ]
  },
  {
   "cell_type": "code",
   "execution_count": 10,
   "id": "4f02de5b",
   "metadata": {},
   "outputs": [
    {
     "name": "stdout",
     "output_type": "stream",
     "text": [
      "(1, 5, 8)\n",
      "{0: 'Apple', 1: 'Hard', 3: 'work'}\n"
     ]
    }
   ],
   "source": [
    "dic = {0:'Apple',1:\"Hard\",3:\"work\",'new_set':(1,5,8)}\n",
    "print(dic.pop(\"new_set\"))\n",
    "print(dic)"
   ]
  },
  {
   "cell_type": "code",
   "execution_count": null,
   "id": "1bd5468a",
   "metadata": {},
   "outputs": [],
   "source": []
  }
 ],
 "metadata": {
  "kernelspec": {
   "display_name": "Python 3 (ipykernel)",
   "language": "python",
   "name": "python3"
  },
  "language_info": {
   "codemirror_mode": {
    "name": "ipython",
    "version": 3
   },
   "file_extension": ".py",
   "mimetype": "text/x-python",
   "name": "python",
   "nbconvert_exporter": "python",
   "pygments_lexer": "ipython3",
   "version": "3.11.5"
  }
 },
 "nbformat": 4,
 "nbformat_minor": 5
}

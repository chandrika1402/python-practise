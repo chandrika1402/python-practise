{
 "cells": [
  {
   "cell_type": "code",
   "execution_count": 3,
   "id": "d2cf8aad",
   "metadata": {},
   "outputs": [
    {
     "name": "stdout",
     "output_type": "stream",
     "text": [
      "The sum of the elements in the list is: 15\n"
     ]
    }
   ],
   "source": [
    "def sum_of_elements(lst):\n",
    "    return sum(lst)\n",
    "list = [1, 2, 3, 4, 5]\n",
    "r = sum_of_elements(list)\n",
    "\n",
    "print(\"The sum of the elements in the list is:\",r)"
   ]
  },
  {
   "cell_type": "code",
   "execution_count": 4,
   "id": "c0c9c4f8",
   "metadata": {},
   "outputs": [
    {
     "name": "stdout",
     "output_type": "stream",
     "text": [
      "63\n"
     ]
    }
   ],
   "source": [
    "list=[3,10,20,30]\n",
    "print(sum(list))"
   ]
  },
  {
   "cell_type": "code",
   "execution_count": 6,
   "id": "f347fa76",
   "metadata": {},
   "outputs": [
    {
     "name": "stdout",
     "output_type": "stream",
     "text": [
      "sum: 63\n"
     ]
    }
   ],
   "source": [
    "def sum(list):\n",
    "    total = 0  \n",
    "    for num in list:\n",
    "        total += num \n",
    "    return total\n",
    "\n",
    "list = [3,10,20,30]\n",
    "r = sum(list)\n",
    "\n",
    "print(\"sum:\",r)"
   ]
  },
  {
   "cell_type": "code",
   "execution_count": null,
   "id": "dce842c7",
   "metadata": {},
   "outputs": [],
   "source": []
  }
 ],
 "metadata": {
  "kernelspec": {
   "display_name": "Python 3 (ipykernel)",
   "language": "python",
   "name": "python3"
  },
  "language_info": {
   "codemirror_mode": {
    "name": "ipython",
    "version": 3
   },
   "file_extension": ".py",
   "mimetype": "text/x-python",
   "name": "python",
   "nbconvert_exporter": "python",
   "pygments_lexer": "ipython3",
   "version": "3.11.5"
  }
 },
 "nbformat": 4,
 "nbformat_minor": 5
}

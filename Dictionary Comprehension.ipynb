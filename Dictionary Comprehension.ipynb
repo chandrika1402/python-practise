{
 "cells": [
  {
   "cell_type": "code",
   "execution_count": 2,
   "id": "d863d921",
   "metadata": {},
   "outputs": [],
   "source": [
    "## Comprehension is meant by the code in single line"
   ]
  },
  {
   "cell_type": "code",
   "execution_count": 4,
   "id": "861a6f7d",
   "metadata": {},
   "outputs": [
    {
     "name": "stdout",
     "output_type": "stream",
     "text": [
      "{0: 0, 1: 1, 2: 4, 3: 9, 4: 16}\n"
     ]
    }
   ],
   "source": [
    "squares = {x:x**2 for x in range(5)}\n",
    "print(squares)"
   ]
  },
  {
   "cell_type": "code",
   "execution_count": 5,
   "id": "ee479cd2",
   "metadata": {},
   "outputs": [
    {
     "name": "stdout",
     "output_type": "stream",
     "text": [
      "{0: 0, 2: 8, 4: 64, 6: 216, 8: 512}\n"
     ]
    }
   ],
   "source": [
    "#Dictionary Comprehension(with a condition)\n",
    "#Create a dictionary where the keys are even numbers and the values are their cubes\n",
    "\n",
    "cubes={x:x**3 for x in range(10) if x % 2 == 0}\n",
    "print(cubes)"
   ]
  },
  {
   "cell_type": "code",
   "execution_count": 6,
   "id": "f0dc2e4b",
   "metadata": {},
   "outputs": [
    {
     "name": "stdout",
     "output_type": "stream",
     "text": [
      "{'a': 1, 'b': 2, 'c': 3}\n"
     ]
    }
   ],
   "source": [
    "#Dictionary Comprehension(with two lists)\n",
    "#Create a dictionary from two lists,one for keys and one for values.\n",
    "\n",
    "keys = ['a','b','c']\n",
    "values=[1,2,3]\n",
    "my_dict={keys[i]:values[i] for i in range(len(keys))}\n",
    "print(my_dict)"
   ]
  },
  {
   "cell_type": "code",
   "execution_count": 8,
   "id": "133426cf",
   "metadata": {},
   "outputs": [
    {
     "name": "stdout",
     "output_type": "stream",
     "text": [
      "{1: 'a', 2: 'b', 3: 'c'}\n"
     ]
    }
   ],
   "source": [
    "##Swapping keys and values\n",
    "original = {'a':1,'b':2,'c':3}\n",
    "swapped  = {v: k for k,v in original.items()}\n",
    "print(swapped)"
   ]
  },
  {
   "cell_type": "code",
   "execution_count": 9,
   "id": "34c5a289",
   "metadata": {},
   "outputs": [
    {
     "name": "stdout",
     "output_type": "stream",
     "text": [
      "{'b': 6, 'd': 10}\n"
     ]
    }
   ],
   "source": [
    "## Flirting items Based on Value\n",
    "## Create a dictionary where the values are only included if they satisfy a certain condition\n",
    "## Fliter out all entries where the value is less than 5\n",
    "\n",
    "original = {'a':1,'b':6,'c':3,'d':10}\n",
    "filtered = {k:v for k, v in original.items() if v>= 5}\n",
    "print(filtered)"
   ]
  },
  {
   "cell_type": "code",
   "execution_count": 11,
   "id": "f5bd57c9",
   "metadata": {},
   "outputs": [
    {
     "name": "stdout",
     "output_type": "stream",
     "text": [
      "{'a': 10, 'b': 20, 'c': 30}\n"
     ]
    }
   ],
   "source": [
    "## Transforming values\n",
    "## You can transform the values of an existing dictionary while keeping the keys intact\n",
    "## Example: Multiply each value by 10\n",
    "\n",
    "original = {'a':1,'b':2,'c':3}\n",
    "transformed = {k:v * 10 for k ,v in original.items()}\n",
    "print(transformed)"
   ]
  },
  {
   "cell_type": "code",
   "execution_count": 12,
   "id": "bcb63f70",
   "metadata": {},
   "outputs": [
    {
     "name": "stdout",
     "output_type": "stream",
     "text": [
      "{1: {'sqaure': 1, 'cube': 1}, 2: {'sqaure': 4, 'cube': 8}, 3: {'sqaure': 9, 'cube': 27}, 4: {'sqaure': 16, 'cube': 64}}\n"
     ]
    }
   ],
   "source": [
    "## Nested Dictionary \n",
    "## You can have a dictionary comprehension inside another dictionary comprehension\n",
    "## Create a dictionary of dictionaries where each key is associated with another dictionary containing th square and cube\n",
    "\n",
    "numbers =[1,2,3,4]\n",
    "nested_dict = {x:{'sqaure':x**2,'cube':x**3}for x in numbers}\n",
    "print(nested_dict)\n"
   ]
  },
  {
   "cell_type": "code",
   "execution_count": 13,
   "id": "98f445a6",
   "metadata": {},
   "outputs": [
    {
     "name": "stdout",
     "output_type": "stream",
     "text": [
      "{'a': 1, 'c': 3}\n"
     ]
    }
   ],
   "source": [
    "## Creating a Dictionary from Two lists with a condition\n",
    "## First list and the value is an element from the second list,but only if the index of the key is even\n",
    "\n",
    "keys =['a','b','c','d']\n",
    "values=[1,2,3,4]\n",
    "filtered_dict={keys[i]:values[i] for i in range (len(keys)) if i % 2 == 0}\n",
    "print(filtered_dict)"
   ]
  },
  {
   "cell_type": "code",
   "execution_count": 15,
   "id": "64210698",
   "metadata": {},
   "outputs": [
    {
     "name": "stdout",
     "output_type": "stream",
     "text": [
      "{'a': 1, 'b': 2, 'c': 3}\n"
     ]
    }
   ],
   "source": [
    "## Creating a Dictionary from Tuples\n",
    "## You can use tuples to form key-value pairs for a dictionary\n",
    "## Convert a list of tuples in dictionaries \n",
    "\n",
    "tuples =[('a',1),('b',2),('c',3)]\n",
    "my_dict = {key:value for key ,value in tuples}\n",
    "print(my_dict)"
   ]
  },
  {
   "cell_type": "code",
   "execution_count": 17,
   "id": "2cd68f4c",
   "metadata": {},
   "outputs": [
    {
     "name": "stdout",
     "output_type": "stream",
     "text": [
      "{'a': 1, 'b': 2, 'c': 3, 'd': 0}\n"
     ]
    }
   ],
   "source": [
    "## Hnadling the Missing keys(Default Value) \n",
    "## Using dictionary cpmprehension to add default values if the key is missing\n",
    "## add a default value if a key is not found in a dictionary\n",
    "\n",
    "keys =['a','b','c','d']\n",
    "values=[1,2,3]\n",
    "my_dict={k:values[i] if i<len(values) else 0 for i,k in enumerate(keys)}\n",
    "print(my_dict)"
   ]
  },
  {
   "cell_type": "code",
   "execution_count": null,
   "id": "dd356c24",
   "metadata": {},
   "outputs": [],
   "source": []
  }
 ],
 "metadata": {
  "kernelspec": {
   "display_name": "Python 3 (ipykernel)",
   "language": "python",
   "name": "python3"
  },
  "language_info": {
   "codemirror_mode": {
    "name": "ipython",
    "version": 3
   },
   "file_extension": ".py",
   "mimetype": "text/x-python",
   "name": "python",
   "nbconvert_exporter": "python",
   "pygments_lexer": "ipython3",
   "version": "3.11.5"
  }
 },
 "nbformat": 4,
 "nbformat_minor": 5
}

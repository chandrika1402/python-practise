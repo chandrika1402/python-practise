{
 "cells": [
  {
   "cell_type": "code",
   "execution_count": 1,
   "id": "9bcd051c",
   "metadata": {},
   "outputs": [
    {
     "name": "stdout",
     "output_type": "stream",
     "text": [
      "Enter the elements of the tuple separated by commas: chinni,vijay,arjun\n",
      "The tuple is: ('chinni', 'vijay', 'arjun')\n"
     ]
    }
   ],
   "source": [
    "# Program to get tuple values from the user and print them\n",
    "\n",
    "user_input = input(\"Enter the elements of the tuple separated by commas: \")\n",
    "user_tuple = tuple(user_input.split(','))\n",
    "print(\"The tuple is:\", user_tuple)\n"
   ]
  },
  {
   "cell_type": "code",
   "execution_count": 2,
   "id": "c1234cd6",
   "metadata": {},
   "outputs": [
    {
     "name": "stdout",
     "output_type": "stream",
     "text": [
      "Enter values separated by commas: chinni,vijay,arjun\n",
      "The values in the tuple are:\n",
      "chinni\n",
      "vijay\n",
      "arjun\n"
     ]
    }
   ],
   "source": [
    "user_input = input(\"Enter values separated by commas: \")\n",
    "user_tuple = tuple(user_input.split(','))\n",
    "print(\"The values in the tuple are:\")\n",
    "for value in user_tuple:\n",
    "    print(value)\n"
   ]
  },
  {
   "cell_type": "code",
   "execution_count": 5,
   "id": "4b0f17de",
   "metadata": {},
   "outputs": [
    {
     "name": "stdout",
     "output_type": "stream",
     "text": [
      "4\n",
      "12\n",
      "10\n",
      "26\n",
      "6\n"
     ]
    }
   ],
   "source": [
    "value=()\n",
    "n = int(input())\n",
    "list_1=[]\n",
    "for i in range(n):\n",
    "    list_1.append(int(input()))\n",
    "value=tuple(list_1)"
   ]
  },
  {
   "cell_type": "code",
   "execution_count": 6,
   "id": "6453d364",
   "metadata": {},
   "outputs": [
    {
     "name": "stdout",
     "output_type": "stream",
     "text": [
      "3\n",
      "14\n",
      "21\n",
      "19\n"
     ]
    }
   ],
   "source": [
    "value=()\n",
    "n = int(input())\n",
    "list_1=[]\n",
    "for i in range(n):\n",
    "    list_1.append(int(input()))\n",
    "value=tuple(list_1)"
   ]
  },
  {
   "cell_type": "code",
   "execution_count": null,
   "id": "8d7a4c7d",
   "metadata": {},
   "outputs": [],
   "source": []
  }
 ],
 "metadata": {
  "kernelspec": {
   "display_name": "Python 3 (ipykernel)",
   "language": "python",
   "name": "python3"
  },
  "language_info": {
   "codemirror_mode": {
    "name": "ipython",
    "version": 3
   },
   "file_extension": ".py",
   "mimetype": "text/x-python",
   "name": "python",
   "nbconvert_exporter": "python",
   "pygments_lexer": "ipython3",
   "version": "3.11.5"
  }
 },
 "nbformat": 4,
 "nbformat_minor": 5
}
